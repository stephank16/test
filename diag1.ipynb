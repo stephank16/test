{
 "cells": [
  {
   "cell_type": "code",
   "execution_count": 1,
   "metadata": {
    "collapsed": false
   },
   "outputs": [
    {
     "name": "stdout",
     "output_type": "stream",
     "text": [
      "Writing diag1.txt\n"
     ]
    }
   ],
   "source": [
    "%%writefile diag1.txt\n",
    "nwdiag {\n",
    "  inet [shape = cloud];\n",
    "  inet --  firewall;\n",
    "    \n",
    "  network dkrz1 {\n",
    "      address = \"210.x.x.x/24\"\n",
    "      firewall\n",
    "      web01 [address = \"210.x.x.1\"];\n",
    "      web02 [address = \"210.x.x.2\"];\n",
    "  }\n",
    "  network internal {\n",
    "      address = \"172.x.x.x/24\";\n",
    "\n",
    "      web01 [address = \"172.x.x.1\"];\n",
    "      web02 [address = \"172.x.x.2\"];\n",
    "      db01;\n",
    "      db02;\n",
    "  }\n",
    "}\n",
    "\n"
   ]
  },
  {
   "cell_type": "code",
   "execution_count": 2,
   "metadata": {
    "collapsed": false
   },
   "outputs": [],
   "source": [
    "!nwdiag diag1.txt"
   ]
  },
  {
   "cell_type": "code",
   "execution_count": 3,
   "metadata": {
    "collapsed": true
   },
   "outputs": [],
   "source": [
    "from IPython.display import display, Image, SVG"
   ]
  },
  {
   "cell_type": "code",
   "execution_count": 4,
   "metadata": {
    "collapsed": false
   },
   "outputs": [
    {
     "data": {
      "image/png": "[encoded data removed]",
      "text/plain": [
       "<IPython.core.display.Image object>"
      ]
     },
     "execution_count": 4,
     "metadata": {},
     "output_type": "execute_result"
    }
   ],
   "source": [
    "diag1_png = Image(filename='diag1.png')\n",
    "diag1_png"
   ]
  },
  {
   "cell_type": "code",
   "execution_count": 5,
   "metadata": {
    "collapsed": false
   },
   "outputs": [
    {
     "name": "stdout",
     "output_type": "stream",
     "text": [
      "Writing block1.diag\n"
     ]
    }
   ],
   "source": [
    "%%writefile block1.diag\n",
    "diagram admin {\n",
    "  top_page [label = \"Top page\"];\n",
    "\n",
    "  foo_index [label = \"List of FOOs\"];\n",
    "  foo_detail [label = \"Detail FOO\"];\n",
    "  foo_add [label = \"Add FOO\"];\n",
    "  foo_add_confirm [label = \"Add FOO (confirm)\"];\n",
    "  foo_edit [label = \"Edit FOO\"];\n",
    "  foo_edit_confirm [label = \"Edit FOO (confirm)\"];\n",
    "  foo_delete_confirm [label = \"Delete FOO (confirm)\"];\n",
    "\n",
    "  bar_detail [label = \"Detail of BAR\"];\n",
    "  bar_edit [label = \"Edit BAR\"];\n",
    "  bar_edit_confirm [label = \"Edit BAR (confirm)\"];\n",
    "\n",
    "  logout;\n",
    "\n",
    "  top_page -> foo_index;\n",
    "  top_page -> bar_detail;\n",
    "\n",
    "  foo_index -> foo_detail;\n",
    "               foo_detail -> foo_edit;\n",
    "               foo_detail -> foo_delete_confirm;\n",
    "  foo_index -> foo_add -> foo_add_confirm -> foo_index;\n",
    "  foo_index -> foo_edit -> foo_edit_confirm -> foo_index;\n",
    "  foo_index -> foo_delete_confirm -> foo_index;\n",
    "\n",
    "  bar_detail -> bar_edit -> bar_edit_confirm -> bar_detail;\n",
    "}"
   ]
  },
  {
   "cell_type": "code",
   "execution_count": 6,
   "metadata": {
    "collapsed": true
   },
   "outputs": [],
   "source": [
    "!blockdiag -Tsvg block1.diag"
   ]
  },
  {
   "cell_type": "code",
   "execution_count": 7,
   "metadata": {
    "collapsed": false
   },
   "outputs": [
    {
     "data": {
      "image/svg+xml": [
       "<svg viewBox=\"0 0 1024 440\" xmlns=\"http://www.w3.org/2000/svg\" xmlns:inkspace=\"http://www.inkscape.org/namespaces/inkscape\" xmlns:xlink=\"http://www.w3.org/1999/xlink\">\n",
       "  <defs id=\"defs_block\">\n",
       "    <filter height=\"1.504\" id=\"filter_blur\" inkspace:collect=\"always\" width=\"1.1575\" x=\"-0.07875\" y=\"-0.252\">\n",
       "      <feGaussianBlur id=\"feGaussianBlur3780\" inkspace:collect=\"always\" stdDeviation=\"4.2\"/>\n",
       "    </filter>\n",
       "  </defs>\n",
       "  <title>blockdiag</title>\n",
       "  <desc>diagram admin {\n",
       "  top_page [label = &quot;Top page&quot;];\n",
       "\n",
       "  foo_index [label = &quot;List of FOOs&quot;];\n",
       "  foo_detail [label = &quot;Detail FOO&quot;];\n",
       "  foo_add [label = &quot;Add FOO&quot;];\n",
       "  foo_add_confirm [label = &quot;Add FOO (confirm)&quot;];\n",
       "  foo_edit [label = &quot;Edit FOO&quot;];\n",
       "  foo_edit_confirm [label = &quot;Edit FOO (confirm)&quot;];\n",
       "  foo_delete_confirm [label = &quot;Delete FOO (confirm)&quot;];\n",
       "\n",
       "  bar_detail [label = &quot;Detail of BAR&quot;];\n",
       "  bar_edit [label = &quot;Edit BAR&quot;];\n",
       "  bar_edit_confirm [label = &quot;Edit BAR (confirm)&quot;];\n",
       "\n",
       "  logout;\n",
       "\n",
       "  top_page -&gt; foo_index;\n",
       "  top_page -&gt; bar_detail;\n",
       "\n",
       "  foo_index -&gt; foo_detail;\n",
       "               foo_detail -&gt; foo_edit;\n",
       "               foo_detail -&gt; foo_delete_confirm;\n",
       "  foo_index -&gt; foo_add -&gt; foo_add_confirm -&gt; foo_index;\n",
       "  foo_index -&gt; foo_edit -&gt; foo_edit_confirm -&gt; foo_index;\n",
       "  foo_index -&gt; foo_delete_confirm -&gt; foo_index;\n",
       "\n",
       "  bar_detail -&gt; bar_edit -&gt; bar_edit_confirm -&gt; bar_detail;\n",
       "}</desc>\n",
       "  <rect fill=\"rgb(0,0,0)\" height=\"40\" stroke=\"rgb(0,0,0)\" style=\"filter:url(#filter_blur);opacity:0.7;fill-opacity:1\" width=\"128\" x=\"67\" y=\"46\"/>\n",
       "  <rect fill=\"rgb(0,0,0)\" height=\"40\" stroke=\"rgb(0,0,0)\" style=\"filter:url(#filter_blur);opacity:0.7;fill-opacity:1\" width=\"128\" x=\"259\" y=\"46\"/>\n",
       "  <rect fill=\"rgb(0,0,0)\" height=\"40\" stroke=\"rgb(0,0,0)\" style=\"filter:url(#filter_blur);opacity:0.7;fill-opacity:1\" width=\"128\" x=\"259\" y=\"286\"/>\n",
       "  <rect fill=\"rgb(0,0,0)\" height=\"40\" stroke=\"rgb(0,0,0)\" style=\"filter:url(#filter_blur);opacity:0.7;fill-opacity:1\" width=\"128\" x=\"451\" y=\"46\"/>\n",
       "  <rect fill=\"rgb(0,0,0)\" height=\"40\" stroke=\"rgb(0,0,0)\" style=\"filter:url(#filter_blur);opacity:0.7;fill-opacity:1\" width=\"128\" x=\"451\" y=\"206\"/>\n",
       "  <rect fill=\"rgb(0,0,0)\" height=\"40\" stroke=\"rgb(0,0,0)\" style=\"filter:url(#filter_blur);opacity:0.7;fill-opacity:1\" width=\"128\" x=\"643\" y=\"206\"/>\n",
       "  <rect fill=\"rgb(0,0,0)\" height=\"40\" stroke=\"rgb(0,0,0)\" style=\"filter:url(#filter_blur);opacity:0.7;fill-opacity:1\" width=\"128\" x=\"643\" y=\"46\"/>\n",
       "  <rect fill=\"rgb(0,0,0)\" height=\"40\" stroke=\"rgb(0,0,0)\" style=\"filter:url(#filter_blur);opacity:0.7;fill-opacity:1\" width=\"128\" x=\"643\" y=\"126\"/>\n",
       "  <rect fill=\"rgb(0,0,0)\" height=\"40\" stroke=\"rgb(0,0,0)\" style=\"filter:url(#filter_blur);opacity:0.7;fill-opacity:1\" width=\"128\" x=\"835\" y=\"46\"/>\n",
       "  <rect fill=\"rgb(0,0,0)\" height=\"40\" stroke=\"rgb(0,0,0)\" style=\"filter:url(#filter_blur);opacity:0.7;fill-opacity:1\" width=\"128\" x=\"451\" y=\"286\"/>\n",
       "  <rect fill=\"rgb(0,0,0)\" height=\"40\" stroke=\"rgb(0,0,0)\" style=\"filter:url(#filter_blur);opacity:0.7;fill-opacity:1\" width=\"128\" x=\"643\" y=\"286\"/>\n",
       "  <rect fill=\"rgb(0,0,0)\" height=\"40\" stroke=\"rgb(0,0,0)\" style=\"filter:url(#filter_blur);opacity:0.7;fill-opacity:1\" width=\"128\" x=\"67\" y=\"366\"/>\n",
       "  <rect fill=\"rgb(255,255,255)\" height=\"40\" stroke=\"rgb(0,0,0)\" width=\"128\" x=\"64\" y=\"40\"/>\n",
       "  <text fill=\"rgb(0,0,0)\" font-family=\"sans-serif\" font-size=\"11\" font-style=\"normal\" font-weight=\"normal\" text-anchor=\"middle\" textLength=\"49\" x=\"128\" y=\"66\">Top page</text>\n",
       "  <rect fill=\"rgb(255,255,255)\" height=\"40\" stroke=\"rgb(0,0,0)\" width=\"128\" x=\"256\" y=\"40\"/>\n",
       "  <text fill=\"rgb(0,0,0)\" font-family=\"sans-serif\" font-size=\"11\" font-style=\"normal\" font-weight=\"normal\" text-anchor=\"middle\" textLength=\"63\" x=\"320\" y=\"65\">List of FOOs</text>\n",
       "  <rect fill=\"rgb(255,255,255)\" height=\"40\" stroke=\"rgb(0,0,0)\" width=\"128\" x=\"256\" y=\"280\"/>\n",
       "  <text fill=\"rgb(0,0,0)\" font-family=\"sans-serif\" font-size=\"11\" font-style=\"normal\" font-weight=\"normal\" text-anchor=\"middle\" textLength=\"67\" x=\"320\" y=\"305\">Detail of BAR</text>\n",
       "  <rect fill=\"rgb(255,255,255)\" height=\"40\" stroke=\"rgb(0,0,0)\" width=\"128\" x=\"448\" y=\"40\"/>\n",
       "  <text fill=\"rgb(0,0,0)\" font-family=\"sans-serif\" font-size=\"11\" font-style=\"normal\" font-weight=\"normal\" text-anchor=\"middle\" textLength=\"57\" x=\"512\" y=\"65\">Detail FOO</text>\n",
       "  <rect fill=\"rgb(255,255,255)\" height=\"40\" stroke=\"rgb(0,0,0)\" width=\"128\" x=\"448\" y=\"200\"/>\n",
       "  <text fill=\"rgb(0,0,0)\" font-family=\"sans-serif\" font-size=\"11\" font-style=\"normal\" font-weight=\"normal\" text-anchor=\"middle\" textLength=\"48\" x=\"512\" y=\"225\">Add FOO</text>\n",
       "  <rect fill=\"rgb(255,255,255)\" height=\"40\" stroke=\"rgb(0,0,0)\" width=\"128\" x=\"640\" y=\"200\"/>\n",
       "  <text fill=\"rgb(0,0,0)\" font-family=\"sans-serif\" font-size=\"11\" font-style=\"normal\" font-weight=\"normal\" text-anchor=\"middle\" textLength=\"99\" x=\"704\" y=\"226\">Add FOO (confirm)</text>\n",
       "  <rect fill=\"rgb(255,255,255)\" height=\"40\" stroke=\"rgb(0,0,0)\" width=\"128\" x=\"640\" y=\"40\"/>\n",
       "  <text fill=\"rgb(0,0,0)\" font-family=\"sans-serif\" font-size=\"11\" font-style=\"normal\" font-weight=\"normal\" text-anchor=\"middle\" textLength=\"48\" x=\"704\" y=\"65\">Edit FOO</text>\n",
       "  <rect fill=\"rgb(255,255,255)\" height=\"40\" stroke=\"rgb(0,0,0)\" width=\"128\" x=\"640\" y=\"120\"/>\n",
       "  <text fill=\"rgb(0,0,0)\" font-family=\"sans-serif\" font-size=\"11\" font-style=\"normal\" font-weight=\"normal\" text-anchor=\"middle\" textLength=\"111\" x=\"704\" y=\"146\">Delete FOO (confirm)</text>\n",
       "  <rect fill=\"rgb(255,255,255)\" height=\"40\" stroke=\"rgb(0,0,0)\" width=\"128\" x=\"832\" y=\"40\"/>\n",
       "  <text fill=\"rgb(0,0,0)\" font-family=\"sans-serif\" font-size=\"11\" font-style=\"normal\" font-weight=\"normal\" text-anchor=\"middle\" textLength=\"99\" x=\"896\" y=\"66\">Edit FOO (confirm)</text>\n",
       "  <rect fill=\"rgb(255,255,255)\" height=\"40\" stroke=\"rgb(0,0,0)\" width=\"128\" x=\"448\" y=\"280\"/>\n",
       "  <text fill=\"rgb(0,0,0)\" font-family=\"sans-serif\" font-size=\"11\" font-style=\"normal\" font-weight=\"normal\" text-anchor=\"middle\" textLength=\"45\" x=\"512\" y=\"305\">Edit BAR</text>\n",
       "  <rect fill=\"rgb(255,255,255)\" height=\"40\" stroke=\"rgb(0,0,0)\" width=\"128\" x=\"640\" y=\"280\"/>\n",
       "  <text fill=\"rgb(0,0,0)\" font-family=\"sans-serif\" font-size=\"11\" font-style=\"normal\" font-weight=\"normal\" text-anchor=\"middle\" textLength=\"96\" x=\"704\" y=\"306\">Edit BAR (confirm)</text>\n",
       "  <rect fill=\"rgb(255,255,255)\" height=\"40\" stroke=\"rgb(0,0,0)\" width=\"128\" x=\"64\" y=\"360\"/>\n",
       "  <text fill=\"rgb(0,0,0)\" font-family=\"sans-serif\" font-size=\"11\" font-style=\"normal\" font-weight=\"normal\" text-anchor=\"middle\" textLength=\"35\" x=\"128\" y=\"386\">logout</text>\n",
       "  <path d=\"M 192 60 L 248 60\" fill=\"none\" stroke=\"rgb(0,0,0)\"/>\n",
       "  <polygon fill=\"rgb(0,0,0)\" points=\"255,60 248,56 248,64 255,60\" stroke=\"rgb(0,0,0)\"/>\n",
       "  <path d=\"M 192 60 L 224 60\" fill=\"none\" stroke=\"rgb(0,0,0)\"/>\n",
       "  <path d=\"M 224 60 L 224 300\" fill=\"none\" stroke=\"rgb(0,0,0)\"/>\n",
       "  <path d=\"M 224 300 L 248 300\" fill=\"none\" stroke=\"rgb(0,0,0)\"/>\n",
       "  <polygon fill=\"rgb(0,0,0)\" points=\"255,300 248,296 248,304 255,300\" stroke=\"rgb(0,0,0)\"/>\n",
       "  <path d=\"M 384 60 L 416 60\" fill=\"none\" stroke=\"rgb(0,0,0)\"/>\n",
       "  <path d=\"M 416 60 L 416 140\" fill=\"none\" stroke=\"rgb(0,0,0)\"/>\n",
       "  <path d=\"M 416 140 L 632 140\" fill=\"none\" stroke=\"rgb(0,0,0)\"/>\n",
       "  <polygon fill=\"rgb(0,0,0)\" points=\"639,140 632,136 632,144 639,140\" stroke=\"rgb(0,0,0)\"/>\n",
       "  <path d=\"M 384 60 L 416 60\" fill=\"none\" stroke=\"rgb(0,0,0)\"/>\n",
       "  <path d=\"M 416 60 L 416 100\" fill=\"none\" stroke=\"rgb(0,0,0)\"/>\n",
       "  <path d=\"M 416 100 L 604 100\" fill=\"none\" stroke=\"rgb(0,0,0)\"/>\n",
       "  <path d=\"M 604.0 100.0 A4,4 0 0 1 612.0 100.0\" fill=\"none\" stroke=\"rgb(0,0,0)\"/>\n",
       "  <path d=\"M 612 100 L 624 100\" fill=\"none\" stroke=\"rgb(0,0,0)\"/>\n",
       "  <path d=\"M 624 100 L 624 60\" fill=\"none\" stroke=\"rgb(0,0,0)\"/>\n",
       "  <path d=\"M 624 60 L 632 60\" fill=\"none\" stroke=\"rgb(0,0,0)\"/>\n",
       "  <polygon fill=\"rgb(0,0,0)\" points=\"639,60 632,56 632,64 639,60\" stroke=\"rgb(0,0,0)\"/>\n",
       "  <path d=\"M 384 60 L 440 60\" fill=\"none\" stroke=\"rgb(0,0,0)\"/>\n",
       "  <polygon fill=\"rgb(0,0,0)\" points=\"447,60 440,56 440,64 447,60\" stroke=\"rgb(0,0,0)\"/>\n",
       "  <path d=\"M 384 60 L 416 60\" fill=\"none\" stroke=\"rgb(0,0,0)\"/>\n",
       "  <path d=\"M 416 60 L 416 220\" fill=\"none\" stroke=\"rgb(0,0,0)\"/>\n",
       "  <path d=\"M 416 220 L 440 220\" fill=\"none\" stroke=\"rgb(0,0,0)\"/>\n",
       "  <polygon fill=\"rgb(0,0,0)\" points=\"447,220 440,216 440,224 447,220\" stroke=\"rgb(0,0,0)\"/>\n",
       "  <path d=\"M 576 60 L 608 60\" fill=\"none\" stroke=\"rgb(0,0,0)\"/>\n",
       "  <path d=\"M 608 60 L 608 140\" fill=\"none\" stroke=\"rgb(0,0,0)\"/>\n",
       "  <path d=\"M 608 140 L 632 140\" fill=\"none\" stroke=\"rgb(0,0,0)\"/>\n",
       "  <polygon fill=\"rgb(0,0,0)\" points=\"639,140 632,136 632,144 639,140\" stroke=\"rgb(0,0,0)\"/>\n",
       "  <path d=\"M 576 60 L 632 60\" fill=\"none\" stroke=\"rgb(0,0,0)\"/>\n",
       "  <polygon fill=\"rgb(0,0,0)\" points=\"639,60 632,56 632,64 639,60\" stroke=\"rgb(0,0,0)\"/>\n",
       "  <path d=\"M 576 220 L 632 220\" fill=\"none\" stroke=\"rgb(0,0,0)\"/>\n",
       "  <polygon fill=\"rgb(0,0,0)\" points=\"639,220 632,216 632,224 639,220\" stroke=\"rgb(0,0,0)\"/>\n",
       "  <path d=\"M 768 220 L 784 220\" fill=\"none\" stroke=\"rgb(0,0,0)\"/>\n",
       "  <path d=\"M 784 220 L 784 25\" fill=\"none\" stroke=\"rgb(0,0,0)\"/>\n",
       "  <path d=\"M 320 25 L 784 25\" fill=\"none\" stroke=\"rgb(0,0,0)\"/>\n",
       "  <path d=\"M 320 25 L 320 32\" fill=\"none\" stroke=\"rgb(0,0,0)\"/>\n",
       "  <polygon fill=\"rgb(0,0,0)\" points=\"320,39 316,32 324,32 320,39\" stroke=\"rgb(0,0,0)\"/>\n",
       "  <path d=\"M 768 60 L 780 60\" fill=\"none\" stroke=\"rgb(0,0,0)\"/>\n",
       "  <path d=\"M 780.0 60.0 A4,4 0 0 1 788.0 60.0\" fill=\"none\" stroke=\"rgb(0,0,0)\"/>\n",
       "  <path d=\"M 788 60 L 824 60\" fill=\"none\" stroke=\"rgb(0,0,0)\"/>\n",
       "  <polygon fill=\"rgb(0,0,0)\" points=\"831,60 824,56 824,64 831,60\" stroke=\"rgb(0,0,0)\"/>\n",
       "  <path d=\"M 960 60 L 976 60\" fill=\"none\" stroke=\"rgb(0,0,0)\"/>\n",
       "  <path d=\"M 976 60 L 976 25\" fill=\"none\" stroke=\"rgb(0,0,0)\"/>\n",
       "  <path d=\"M 320 25 L 976 25\" fill=\"none\" stroke=\"rgb(0,0,0)\"/>\n",
       "  <path d=\"M 320 25 L 320 32\" fill=\"none\" stroke=\"rgb(0,0,0)\"/>\n",
       "  <polygon fill=\"rgb(0,0,0)\" points=\"320,39 316,32 324,32 320,39\" stroke=\"rgb(0,0,0)\"/>\n",
       "  <path d=\"M 768 140 L 784 140\" fill=\"none\" stroke=\"rgb(0,0,0)\"/>\n",
       "  <path d=\"M 784 140 L 784 25\" fill=\"none\" stroke=\"rgb(0,0,0)\"/>\n",
       "  <path d=\"M 320 25 L 784 25\" fill=\"none\" stroke=\"rgb(0,0,0)\"/>\n",
       "  <path d=\"M 320 25 L 320 32\" fill=\"none\" stroke=\"rgb(0,0,0)\"/>\n",
       "  <polygon fill=\"rgb(0,0,0)\" points=\"320,39 316,32 324,32 320,39\" stroke=\"rgb(0,0,0)\"/>\n",
       "  <path d=\"M 384 300 L 440 300\" fill=\"none\" stroke=\"rgb(0,0,0)\"/>\n",
       "  <polygon fill=\"rgb(0,0,0)\" points=\"447,300 440,296 440,304 447,300\" stroke=\"rgb(0,0,0)\"/>\n",
       "  <path d=\"M 576 300 L 632 300\" fill=\"none\" stroke=\"rgb(0,0,0)\"/>\n",
       "  <polygon fill=\"rgb(0,0,0)\" points=\"639,300 632,296 632,304 639,300\" stroke=\"rgb(0,0,0)\"/>\n",
       "  <path d=\"M 768 300 L 784 300\" fill=\"none\" stroke=\"rgb(0,0,0)\"/>\n",
       "  <path d=\"M 784 300 L 784 265\" fill=\"none\" stroke=\"rgb(0,0,0)\"/>\n",
       "  <path d=\"M 320 265 L 784 265\" fill=\"none\" stroke=\"rgb(0,0,0)\"/>\n",
       "  <path d=\"M 320 265 L 320 272\" fill=\"none\" stroke=\"rgb(0,0,0)\"/>\n",
       "  <polygon fill=\"rgb(0,0,0)\" points=\"320,279 316,272 324,272 320,279\" stroke=\"rgb(0,0,0)\"/>\n",
       "</svg>"
      ],
      "text/plain": [
       "<IPython.core.display.SVG object>"
      ]
     },
     "execution_count": 7,
     "metadata": {},
     "output_type": "execute_result"
    }
   ],
   "source": [
    "SVG(filename='block1.svg')"
   ]
  },
  {
   "cell_type": "code",
   "execution_count": null,
   "metadata": {
    "collapsed": true
   },
   "outputs": [],
   "source": []
  }
 ],
 "metadata": {
  "kernelspec": {
   "display_name": "Python 2",
   "language": "python",
   "name": "python2"
  },
  "language_info": {
   "codemirror_mode": {
    "name": "ipython",
    "version": 2
   },
   "file_extension": ".py",
   "mimetype": "text/x-python",
   "name": "python",
   "nbconvert_exporter": "python",
   "pygments_lexer": "ipython2",
   "version": "2.7.10"
  }
 },
 "nbformat": 4,
 "nbformat_minor": 0
}
