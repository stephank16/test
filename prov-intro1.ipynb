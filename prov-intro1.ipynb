{
 "cells": [
  {
   "cell_type": "markdown",
   "metadata": {},
   "source": [
    "# PROV W3C using the Python Library - first steps"
   ]
  },
  {
   "cell_type": "markdown",
   "metadata": {},
   "source": [
    "The [PROV Python library](http://badge.fury.io/py/prov) is an implementation of the [Provenance Data Model](http://www.w3.org/TR/prov-dm/) by the World Wide Web Consortium. This notebook illustrates how to use the library to:\n",
    "\n",
    "* create provenance statements in Python;\n",
    "* export the provenance to [PROV-N](http://www.w3.org/TR/prov-n/), [PROV-JSON](https://provenance.ecs.soton.ac.uk/prov-json/), and graphical representations like PNG, SVG, PDF; and\n",
    "* store and retrieve provenance on [ProvStore](https://provenance.ecs.soton.ac.uk/store).\n",
    "* extend a data processing step with provenance tracing\n",
    "\n",
    "(see also the python prov [introduction notebook](https://github.com/trungdong/notebooks), from which some parts are borrowed)"
   ]
  },
  {
   "cell_type": "markdown",
   "metadata": {},
   "source": [
    "## Installation"
   ]
  },
  {
   "cell_type": "markdown",
   "metadata": {},
   "source": [
    "To install the prov library using [pip](http://pip.pypa.io/) with support for graphical exports:\n",
    "```bash\n",
    "pip install prov[dot]\n",
    "```\n"
   ]
  },
  {
   "cell_type": "markdown",
   "metadata": {},
   "source": [
    "## Create a simple provenance document"
   ]
  },
  {
   "cell_type": "markdown",
   "metadata": {},
   "source": [
    "In this example, we use the Data Journalism example from [Provenance: An Introduction to PROV](http://www.provbook.org/) by [Luc Moreau](http://www.ecs.soton.ac.uk/~lavm/) and [Paul Groth](http://www.few.vu.nl/~pgroth/). If you do not have access to the book, you can find the example from the [slides](http://www.provbook.org/tutorial/provenanceweek2014/prov-tutorial.pptx) by Luc and Paul (starting from slide #15). Please familarise yourself with the example and relevant PROV concepts (i.e. [entity](http://www.w3.org/TR/prov-primer/#entities), [activity](http://www.w3.org/TR/prov-primer/#activities), [agent](http://www.w3.org/TR/prov-primer/#agents-and-responsibility), ...) before proceeding with this tutorial."
   ]
  },
  {
   "cell_type": "markdown",
   "metadata": {},
   "source": [
    "To create a [provenance document](), import `ProvDocument` class from `prov.model`:"
   ]
  },
  {
   "cell_type": "code",
   "execution_count": 78,
   "metadata": {
    "collapsed": false
   },
   "outputs": [],
   "source": [
    "from prov.model import ProvDocument"
   ]
  },
  {
   "cell_type": "code",
   "execution_count": 90,
   "metadata": {
    "collapsed": false
   },
   "outputs": [],
   "source": [
    "# Create a new provenance document\n",
    "d1 = ProvDocument()  # d1 is now an empty provenance document"
   ]
  },
  {
   "cell_type": "markdown",
   "metadata": {},
   "source": [
    "Before asserting provenance statements, we need to have a way to refer to the \"things\" we want to describe provenance (e.g. articles, data sets, people). For that purpose, PROV uses [qualified names](http://www.w3.org/TR/prov-dm/#term-identifier) to identify things, which essentially a shortened representation of a [URI](http://en.wikipedia.org/wiki/Uniform_resource_identifier) in the form of `prefix:localpart`. Valid qualified names require their prefixes defined, which we is going to do next."
   ]
  },
  {
   "cell_type": "code",
   "execution_count": 91,
   "metadata": {
    "collapsed": false
   },
   "outputs": [
    {
     "data": {
      "text/plain": [
       "<Namespace: esgf_http {http://carbon.dkrz.de/file/cmip5/}>"
      ]
     },
     "execution_count": 91,
     "metadata": {},
     "output_type": "execute_result"
    }
   ],
   "source": [
    "# Declaring namespaces for various prefixes used in the example\n",
    "d1.add_namespace('enes', 'http://www.enes.org/enes_entitiy/')\n",
    "d1.add_namespace('file', 'http://www.enes.org/enes_entity/file/')\n",
    "d1.add_namespace('user', 'http://www.enes.org/enes_entity/user/')\n",
    "#d1.add_namespace('bk', 'http://www.provbook.org/ns/#')\n",
    "d1.add_namespace('esgf_http', 'http://carbon.dkrz.de/file/cmip5/')"
   ]
  },
  {
   "cell_type": "markdown",
   "metadata": {},
   "source": [
    "Now we can create things like entities, agents and relate them with one another."
   ]
  },
  {
   "cell_type": "code",
   "execution_count": 92,
   "metadata": {
    "collapsed": false
   },
   "outputs": [
    {
     "data": {
      "text/plain": [
       "<ProvAgent: user:stephan>"
      ]
     },
     "execution_count": 92,
     "metadata": {},
     "output_type": "execute_result"
    }
   ],
   "source": [
    "# File(Collection) Entities:\n",
    "e1 = d1.entity('esgf_http:cmip5.mpi-m.tas.v1')\n",
    "r1 = d1.entity('enes:temporal-mean-result1-v1.nc')\n",
    "# Agent: enes:experiment\n",
    "d1.agent('user:stephan')"
   ]
  },
  {
   "cell_type": "markdown",
   "metadata": {},
   "source": [
    "The statements create input and output entities as well as an agent, responsible for creating the output"
   ]
  },
  {
   "cell_type": "code",
   "execution_count": 93,
   "metadata": {
    "collapsed": false
   },
   "outputs": [
    {
     "data": {
      "text/plain": [
       "<ProvAttribution: (enes:temporal-mean-result1-v1.nc, user:stephan)>"
      ]
     },
     "execution_count": 93,
     "metadata": {},
     "output_type": "execute_result"
    }
   ],
   "source": [
    "# Attributing the article to the agent\n",
    "d1.wasAttributedTo(r1, 'user:stephan')"
   ]
  },
  {
   "cell_type": "code",
   "execution_count": 94,
   "metadata": {
    "collapsed": false
   },
   "outputs": [
    {
     "name": "stdout",
     "output_type": "stream",
     "text": [
      "document\n",
      "  prefix esgf_http <http://carbon.dkrz.de/file/cmip5/>\n",
      "  prefix enes <http://www.enes.org/enes_entitiy/>\n",
      "  prefix file <http://www.enes.org/enes_entity/file/>\n",
      "  prefix user <http://www.enes.org/enes_entity/user/>\n",
      "  \n",
      "  entity(esgf_http:cmip5.mpi-m.tas.v1)\n",
      "  entity(enes:temporal-mean-result1-v1.nc)\n",
      "  agent(user:stephan)\n",
      "  wasAttributedTo(enes:temporal-mean-result1-v1.nc, user:stephan)\n",
      "endDocument\n"
     ]
    }
   ],
   "source": [
    "# What we have so far (in PROV-N)\n",
    "print d1.get_provn()"
   ]
  },
  {
   "cell_type": "markdown",
   "metadata": {},
   "source": [
    "We can adds properties to the input, which is a `enes_data:Dataset` and has the label `experiment-mpi-m`. The entity's type and label are domain-specific information; similar information can be added to any record as the last argument of a statement (or as a keyword argument `other_attributes`).\n",
    "\n",
    "The last statement below then asserts that the result output `enes:temporal-mean-result1-v1.nc` was derived from the data set."
   ]
  },
  {
   "cell_type": "code",
   "execution_count": 95,
   "metadata": {
    "collapsed": false
   },
   "outputs": [
    {
     "data": {
      "text/plain": [
       "<ProvDerivation: (enes:temporal-mean-result1-v1.nc, esgf_http:cmip5.mpi-m.tas.v1)>"
      ]
     },
     "execution_count": 95,
     "metadata": {},
     "output_type": "execute_result"
    }
   ],
   "source": [
    "# 'now:employment-article-v1.html' was derived from govftp\n",
    "\n",
    "d1.add_namespace('enes_data', 'http://enes_org/enes_data#')\n",
    "d1.add_namespace('dc','http://dublin-core.org/')\n",
    "d1.entity('esgf_http:cmip5.mpi-m.tas.v1', {'prov:label': 'experiment-mpi-m', 'prov:type': 'enes_data:Dataset', 'dc:title':\"dublin core title\"})\n",
    "d1.wasDerivedFrom('enes:temporal-mean-result1-v1.nc', 'esgf_http:cmip5.mpi-m.tas.v1')"
   ]
  },
  {
   "cell_type": "code",
   "execution_count": 96,
   "metadata": {
    "collapsed": false
   },
   "outputs": [
    {
     "name": "stdout",
     "output_type": "stream",
     "text": [
      "document\n",
      "  prefix enes <http://www.enes.org/enes_entitiy/>\n",
      "  prefix dc <http://dublin-core.org/>\n",
      "  prefix esgf_http <http://carbon.dkrz.de/file/cmip5/>\n",
      "  prefix user <http://www.enes.org/enes_entity/user/>\n",
      "  prefix file <http://www.enes.org/enes_entity/file/>\n",
      "  prefix enes_data <http://enes_org/enes_data#>\n",
      "  \n",
      "  entity(esgf_http:cmip5.mpi-m.tas.v1)\n",
      "  entity(enes:temporal-mean-result1-v1.nc)\n",
      "  agent(user:stephan)\n",
      "  wasAttributedTo(enes:temporal-mean-result1-v1.nc, user:stephan)\n",
      "  entity(esgf_http:cmip5.mpi-m.tas.v1, [prov:type=\"enes_data:Dataset\", dc:title=\"dublin core title\", prov:label=\"experiment-mpi-m\"])\n",
      "  wasDerivedFrom(enes:temporal-mean-result1-v1.nc, esgf_http:cmip5.mpi-m.tas.v1, -, -, -)\n",
      "endDocument\n"
     ]
    }
   ],
   "source": [
    "print d1.get_provn()"
   ]
  },
  {
   "cell_type": "markdown",
   "metadata": {},
   "source": [
    "Following the example, we further extend the document with an activity, a usage, and a generation statement."
   ]
  },
  {
   "cell_type": "code",
   "execution_count": 110,
   "metadata": {
    "collapsed": false
   },
   "outputs": [
    {
     "data": {
      "text/plain": [
       "<ProvActivity: workflow:temporal-mean-cdo>"
      ]
     },
     "execution_count": 110,
     "metadata": {},
     "output_type": "execute_result"
    }
   ],
   "source": [
    "# Adding an activity\n",
    "d1.add_namespace('workflow', 'http://www.enes.org/enes/workflow/#')\n",
    "\n",
    "d1.activity('workflow:temporal-mean-cdo','2012-03-31T09:21:00', '2012-04-01T15:21:00',{'dc:title':\"dublin core title\"})\n"
   ]
  },
  {
   "cell_type": "code",
   "execution_count": 111,
   "metadata": {
    "collapsed": false
   },
   "outputs": [
    {
     "data": {
      "text/plain": [
       "<ProvGeneration: (enes:temporal-mean-result1-v1.nc, workflow:temporal-mean-cdo)>"
      ]
     },
     "execution_count": 111,
     "metadata": {},
     "output_type": "execute_result"
    }
   ],
   "source": [
    "# Usage and Generation\n",
    "d1.used('workflow:temporal-mean-cdo', 'esgf_http:cmip5.mpi-m.tas.v1')\n",
    "d1.wasGeneratedBy('enes:temporal-mean-result1-v1.nc', 'workflow:temporal-mean-cdo')"
   ]
  },
  {
   "cell_type": "markdown",
   "metadata": {},
   "source": [
    "## Graphics export (PNG and PDF)"
   ]
  },
  {
   "cell_type": "markdown",
   "metadata": {},
   "source": [
    "In addition to the PROV-N output (as above), the document can be exported into a graphical representation with the help of the [GraphViz](http://www.graphviz.org/). It is provided as a software package in popular Linux distributions, or can be [downloaded](http://www.graphviz.org/Download.php) for Windows and Mac.\n",
    "\n",
    "Once you have GraphViz installed and the `dot` command available in your operating system's paths, you can save the document we have so far into a PNG file as follows."
   ]
  },
  {
   "cell_type": "code",
   "execution_count": 112,
   "metadata": {
    "collapsed": false
   },
   "outputs": [
    {
     "data": {
      "text/plain": [
       "True"
      ]
     },
     "execution_count": 112,
     "metadata": {},
     "output_type": "execute_result"
    }
   ],
   "source": [
    "# visualize the graph\n",
    "from prov.dot import prov_to_dot\n",
    "dot = prov_to_dot(d1)\n",
    "dot.write_png('enes-prov1.png')"
   ]
  },
  {
   "cell_type": "code",
   "execution_count": 113,
   "metadata": {
    "collapsed": false
   },
   "outputs": [
    {
     "data": {
      "image/png": "[encoded data removed]",
      "text/plain": [
       "<IPython.core.display.Image object>"
      ]
     },
     "execution_count": 113,
     "metadata": {},
     "output_type": "execute_result"
    }
   ],
   "source": [
    "from IPython.display import Image\n",
    "Image('enes-prov1.png')"
   ]
  },
  {
   "cell_type": "markdown",
   "metadata": {},
   "source": [
    "The above saves the PNG file as `article-prov.png` in your current folder. If you're runing this tutorial in Ipython Notebook, you can display it as well."
   ]
  },
  {
   "cell_type": "code",
   "execution_count": 11,
   "metadata": {
    "collapsed": false
   },
   "outputs": [
    {
     "data": {
      "image/png": "[encoded data removed]",
      "text/plain": [
       "<IPython.core.display.Image object>"
      ]
     },
     "execution_count": 11,
     "metadata": {},
     "output_type": "execute_result"
    }
   ],
   "source": [
    "from IPython.display import Image\n",
    "Image('article-prov.png')"
   ]
  },
  {
   "cell_type": "code",
   "execution_count": 12,
   "metadata": {
    "collapsed": false
   },
   "outputs": [
    {
     "data": {
      "text/plain": [
       "True"
      ]
     },
     "execution_count": 12,
     "metadata": {},
     "output_type": "execute_result"
    }
   ],
   "source": [
    "# Or save to a PDF\n",
    "dot.write_pdf('article-prov.pdf')"
   ]
  },
  {
   "cell_type": "markdown",
   "metadata": {},
   "source": [
    "Similarly, the above saves the document into a PDF file in your current working folder. Graphviz supports a wide ranges of [raster and vector outputs](http://www.graphviz.org/doc/info/output.html), to which you can export your provenance documents created by the library. To find out what formats are available from your version, run `dot -T?` at the command line."
   ]
  },
  {
   "cell_type": "markdown",
   "metadata": {},
   "source": [
    "## PROV-JSON export"
   ]
  },
  {
   "cell_type": "markdown",
   "metadata": {},
   "source": [
    "[PROV-JSON](https://provenance.ecs.soton.ac.uk/prov-json/) is natively supported by the library and is the default serialisation format."
   ]
  },
  {
   "cell_type": "code",
   "execution_count": 65,
   "metadata": {
    "collapsed": false
   },
   "outputs": [
    {
     "name": "stdout",
     "output_type": "stream",
     "text": [
      "{\n",
      "  \"wasDerivedFrom\": {\n",
      "    \"_:id2\": {\n",
      "      \"prov:usedEntity\": \"esgf_http:cmip5.mpi-m.tas.v1\", \n",
      "      \"prov:generatedEntity\": \"enes:temporal-mean-result1-v1.nc\"\n",
      "    }\n",
      "  }, \n",
      "  \"used\": {\n",
      "    \"_:id3\": {\n",
      "      \"prov:entity\": \"esgf_http:cmip5.mpi-m.tas.v1\", \n",
      "      \"prov:activity\": \"workflow:temporal-mean-cdo\"\n",
      "    }\n",
      "  }, \n",
      "  \"wasAttributedTo\": {\n",
      "    \"_:id1\": {\n",
      "      \"prov:entity\": \"enes:temporal-mean-result1-v1.nc\", \n",
      "      \"prov:agent\": \"user:stephan_kindermann_at_gmail.com\"\n",
      "    }\n",
      "  }, \n",
      "  \"agent\": {\n",
      "    \"user:stephan_kindermann_at_gmail.com\": {}\n",
      "  }, \n",
      "  \"entity\": {\n",
      "    \"enes:temporal-mean-result1-v1.nc\": {}, \n",
      "    \"esgf_http:cmip5.mpi-m.tas.v1\": [\n",
      "      {}, \n",
      "      {\n",
      "        \"prov:type\": \"enes_data:Dataset\", \n",
      "        \"prov:label\": \"experiment-mpi-m\"\n",
      "      }\n",
      "    ]\n",
      "  }, \n",
      "  \"prefix\": {\n",
      "    \"enes\": \"http://www.enes.org/enes_entitiy/\", \n",
      "    \"workflow\": \"http://www.enes.org/enes/workflow/#\", \n",
      "    \"bk\": \"http://www.provbook.org/ns/#\", \n",
      "    \"esgf_http\": \"http://carbon.dkrz.de/file/cmip5/\", \n",
      "    \"user\": \"http://www.enes.org/enes_entity/user/\", \n",
      "    \"file\": \"http://www.enes.org/enes_entity/file/\", \n",
      "    \"enes_data\": \"http://enes_org/enes_data#\"\n",
      "  }, \n",
      "  \"activity\": {\n",
      "    \"workflow:temporal-mean-cdo\": {}\n",
      "  }, \n",
      "  \"wasGeneratedBy\": {\n",
      "    \"_:id4\": {\n",
      "      \"prov:entity\": \"enes:temporal-mean-result1-v1.nc\", \n",
      "      \"prov:activity\": \"workflow:temporal-mean-cdo\"\n",
      "    }\n",
      "  }\n",
      "}\n"
     ]
    }
   ],
   "source": [
    "print d1.serialize(indent=2)"
   ]
  },
  {
   "cell_type": "markdown",
   "metadata": {},
   "source": [
    "You can also serialize the document directly to a file by providing a filename (below) or a Python File object."
   ]
  },
  {
   "cell_type": "code",
   "execution_count": 14,
   "metadata": {
    "collapsed": false
   },
   "outputs": [],
   "source": [
    "d1.serialize('article-prov.json')"
   ]
  },
  {
   "cell_type": "markdown",
   "metadata": {},
   "source": [
    "A PROV-JSON file can also be deserialised into a `ProvDocument` instance as follows."
   ]
  },
  {
   "cell_type": "code",
   "execution_count": 15,
   "metadata": {
    "collapsed": false
   },
   "outputs": [
    {
     "data": {
      "text/plain": [
       "True"
      ]
     },
     "execution_count": 15,
     "metadata": {},
     "output_type": "execute_result"
    }
   ],
   "source": [
    "d2 = ProvDocument.deserialize('article-prov.json')\n",
    "d1 == d2  # Is it the same document we saved earlier?"
   ]
  },
  {
   "cell_type": "markdown",
   "metadata": {},
   "source": [
    "## Store and retrieve provenance documents from ProvStore"
   ]
  },
  {
   "cell_type": "markdown",
   "metadata": {},
   "source": [
    "Having the created a provenance document, you can upload it to [ProvStore](https://provenance.ecs.soton.ac.uk/store/), a free repository for provenance documents, to share it publicly/privately, or simple just to store and retrieve it back at a later time.\n",
    "In addition to storage and sharing, you can also retrieve your documents on ProvStore in further formats like XML and RDF, transform, and/or visualise them in various ways (see [this poster](http://eprints.soton.ac.uk/365509/) for more information).\n",
    "\n",
    "Before storing your document there, you need to [register for an account](https://provenance.ecs.soton.ac.uk/store/account/signup/). You can then upload the PROV-N or PROV-JSON export above via ProvStore's website. However, if you [generated an API Key](https://provenance.ecs.soton.ac.uk/store/account/developer/) for your account, you can also upload the document there directly from this tutorial as shown below.\n",
    "\n",
    "A wrapper for [ProvStore's REST API](https://provenance.ecs.soton.ac.uk/store/help/api/) is provided by the package [provstore-api](https://github.com/millar/provstore-api#installation). Please follow the [installation instructions](https://github.com/millar/provstore-api#installation) there before proceeding."
   ]
  },
  {
   "cell_type": "code",
   "execution_count": 17,
   "metadata": {
    "collapsed": false
   },
   "outputs": [],
   "source": [
    "# Configure ProvStore API Wrapper with your API Key\n",
    "from provstore.api import Api\n",
    "# see your API key at https://provenance.ecs.soton.ac.uk/store/account/developer/\n",
    "api = Api(username='your ProvStore username', api_key='your API key')"
   ]
  },
  {
   "cell_type": "code",
   "execution_count": 18,
   "metadata": {
    "collapsed": false
   },
   "outputs": [
    {
     "data": {
      "text/html": [
       "<a href=\"https://provenance.ecs.soton.ac.uk/store/documents/76548\" target=\"_blank\">Open your new provenance document on ProvStore</a>"
      ],
      "text/plain": [
       "<IPython.core.display.HTML at 0x7f6a4728cc10>"
      ]
     },
     "execution_count": 18,
     "metadata": {},
     "output_type": "execute_result"
    }
   ],
   "source": [
    "# Submit the document to ProvStore\n",
    "provstore_document = api.document.create(d1, name='article-prov', public=True)\n",
    "\n",
    "# Generate a nice link to the document on ProvStore so you don't have to find it manually \n",
    "from IPython.display import HTML\n",
    "document_uri = provstore_document.url\n",
    "HTML('<a href=\"%s\" target=\"_blank\">Open your new provenance document on ProvStore</a>' % document_uri)"
   ]
  },
  {
   "cell_type": "markdown",
   "metadata": {},
   "source": [
    "The first statement above submit the document `d1` to ProvStore, giving it a name (required) and making it visible to everyone (optional and private by default). Clicking on the link generated will open the page on ProvStore for the document you just submitted."
   ]
  },
  {
   "cell_type": "markdown",
   "metadata": {},
   "source": [
    "The returned object is a wrapper for the document on ProvStore identified by `provstore_document.id`, with which you can, of course, retrieve the document again from ProvStore."
   ]
  },
  {
   "cell_type": "code",
   "execution_count": 19,
   "metadata": {
    "collapsed": false
   },
   "outputs": [
    {
     "data": {
      "text/plain": [
       "True"
      ]
     },
     "execution_count": 19,
     "metadata": {},
     "output_type": "execute_result"
    }
   ],
   "source": [
    "# Retrieve it back\n",
    "retrieved_document = api.document.get(provstore_document.id)\n",
    "d2 = retrieved_document.prov\n",
    "d1 == d2  # Is it the same document we submitted?"
   ]
  },
  {
   "cell_type": "markdown",
   "metadata": {},
   "source": [
    "You can also remove the document from ProvStore via its API. It is a good idea to leave your account there nice and tidy anyway."
   ]
  },
  {
   "cell_type": "code",
   "execution_count": 20,
   "metadata": {
    "collapsed": false
   },
   "outputs": [
    {
     "data": {
      "text/plain": [
       "True"
      ]
     },
     "execution_count": 20,
     "metadata": {},
     "output_type": "execute_result"
    }
   ],
   "source": [
    "# Cleaning up, delete the document\n",
    "retrieved_document.delete()"
   ]
  },
  {
   "cell_type": "code",
   "execution_count": 77,
   "metadata": {
    "collapsed": false
   },
   "outputs": [],
   "source": [
    "# Just to be sure, trying to retrieve it again\n",
    "#api.document.get(provstore_document.id)  # the document is no longer there"
   ]
  },
  {
   "cell_type": "markdown",
   "metadata": {},
   "source": [
    "## Further reading"
   ]
  },
  {
   "cell_type": "markdown",
   "metadata": {},
   "source": [
    "There it is, through a very short tutorial, you have managed to create a provenance document, export it, and store it on the cloud. Simple!\n",
    "\n",
    "If you want to find out more about how to use the library and ProvStore, here are some references:\n",
    "* [Prov Python library's documentation](http://prov.readthedocs.org)\n",
    "* [ProvStore's API documentation](https://provenance.ecs.soton.ac.uk/store/help/api/)\n",
    "* Book: [Provenance: An Introduction to PROV](http://www.provbook.org/)\n",
    "* [Overview of the PROV standards](http://www.w3.org/TR/prov-overview/)\n",
    "\n",
    "Finally, if you have issues with the Prov Python library, please report them at our [issue tracker on Github](https://github.com/trungdong/prov/issues)."
   ]
  },
  {
   "cell_type": "markdown",
   "metadata": {},
   "source": [
    "<a rel=\"license\" href=\"http://creativecommons.org/licenses/by-sa/4.0/\"><img alt=\"Creative Commons Licence\" style=\"border-width:0\" src=\"https://i.creativecommons.org/l/by-sa/4.0/88x31.png\" /></a><br /><span xmlns:dct=\"http://purl.org/dc/terms/\" href=\"http://purl.org/dc/dcmitype/InteractiveResource\" property=\"dct:title\" rel=\"dct:type\"> PROV W3C using the Python Library - first steps</span> by <a xmlns:cc=\"http://creativecommons.org/ns#\" href=\"http://about.me/stephan.kindermann\" property=\"cc:attributionName\" rel=\"cc:attributionURL\"/></a> is licensed under a <a rel=\"license\" href=\"http://creativecommons.org/licenses/by-sa/4.0/\">Creative Commons Attribution-ShareAlike 4.0 International License</a>."
   ]
  },
  {
   "cell_type": "code",
   "execution_count": null,
   "metadata": {
    "collapsed": true
   },
   "outputs": [],
   "source": []
  }
 ],
 "metadata": {
  "kernelspec": {
   "display_name": "Python 2",
   "language": "python",
   "name": "python2"
  },
  "language_info": {
   "codemirror_mode": {
    "name": "ipython",
    "version": 2
   },
   "file_extension": ".py",
   "mimetype": "text/x-python",
   "name": "python",
   "nbconvert_exporter": "python",
   "pygments_lexer": "ipython2",
   "version": "2.7.10"
  }
 },
 "nbformat": 4,
 "nbformat_minor": 0
}
