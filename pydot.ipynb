{
 "cells": [
  {
   "cell_type": "code",
   "execution_count": 4,
   "metadata": {
    "collapsed": true
   },
   "outputs": [],
   "source": [
    "import pydotplus as pydot\n",
    "from IPython.display import Image, SVG"
   ]
  },
  {
   "cell_type": "code",
   "execution_count": 5,
   "metadata": {
    "collapsed": false
   },
   "outputs": [
    {
     "data": {
      "image/svg+xml": [
       "<svg height=\"312pt\" viewBox=\"0.00 0.00 134.00 312.00\" width=\"134pt\" xmlns=\"http://www.w3.org/2000/svg\" xmlns:xlink=\"http://www.w3.org/1999/xlink\">\n",
       "<g class=\"graph\" id=\"graph0\" transform=\"scale(1 1) rotate(0) translate(4 308)\">\n",
       "<title>G</title>\n",
       "<polygon fill=\"white\" points=\"-4,4 -4,-308 130,-308 130,4 -4,4\" stroke=\"none\"/>\n",
       "<!-- 1 -->\n",
       "<g class=\"node\" id=\"node1\"><title>1</title>\n",
       "<polygon fill=\"green\" points=\"90,-286 76.5,-304 49.5,-304 36,-286 49.5,-268 76.5,-268 90,-286\" stroke=\"green\"/>\n",
       "<text font-family=\"Times,serif\" font-size=\"14.00\" text-anchor=\"middle\" x=\"63\" y=\"-282.3\">01</text>\n",
       "</g>\n",
       "<!-- 2 -->\n",
       "<g class=\"node\" id=\"node2\"><title>2</title>\n",
       "<polygon fill=\"green\" points=\"54,-18 40.5,-36 13.5,-36 0,-18 13.5,-2.4869e-14 40.5,-0 54,-18\" stroke=\"green\"/>\n",
       "<text font-family=\"Times,serif\" font-size=\"14.00\" text-anchor=\"middle\" x=\"27\" y=\"-14.3\">02</text>\n",
       "</g>\n",
       "<!-- 1&#45;&gt;2 -->\n",
       "<g class=\"edge\" id=\"edge1\"><title>1-&gt;2</title>\n",
       "<path d=\"M60.6933,-267.956C54.5359,-222.459 37.6875,-97.9687 30.4158,-44.2392\" fill=\"none\" stroke=\"blue\"/>\n",
       "<ellipse cx=\"29.8706\" cy=\"-40.2103\" fill=\"blue\" rx=\"4.00001\" ry=\"4.00001\" stroke=\"blue\"/>\n",
       "<text font-family=\"Times,serif\" font-size=\"14.00\" text-anchor=\"middle\" x=\"49\" y=\"-148.3\"> </text>\n",
       "</g>\n",
       "<!-- 3 -->\n",
       "<g class=\"node\" id=\"node3\"><title>3</title>\n",
       "<polygon fill=\"green\" points=\"126,-18 112.5,-36 85.5,-36 72,-18 85.5,-2.4869e-14 112.5,-0 126,-18\" stroke=\"green\"/>\n",
       "<text font-family=\"Times,serif\" font-size=\"14.00\" text-anchor=\"middle\" x=\"99\" y=\"-14.3\">02</text>\n",
       "</g>\n",
       "<!-- 1&#45;&gt;3 -->\n",
       "<g class=\"edge\" id=\"edge2\"><title>1-&gt;3</title>\n",
       "<path d=\"M65.3067,-267.956C71.4641,-222.459 88.3125,-97.9687 95.5842,-44.2392\" fill=\"none\" stroke=\"blue\"/>\n",
       "<ellipse cx=\"96.1294\" cy=\"-40.2103\" fill=\"blue\" rx=\"4.00001\" ry=\"4.00001\" stroke=\"blue\"/>\n",
       "</g>\n",
       "</g>\n",
       "</svg>"
      ],
      "text/plain": [
       "<IPython.core.display.SVG object>"
      ]
     },
     "execution_count": 5,
     "metadata": {},
     "output_type": "execute_result"
    }
   ],
   "source": [
    "graph = pydot.graph_from_dot_data(open('twopi2.gv.txt').read())\n",
    "svg = graph.create_svg()\n",
    "SVG(svg)"
   ]
  },
  {
   "cell_type": "code",
   "execution_count": 6,
   "metadata": {
    "collapsed": false
   },
   "outputs": [
    {
     "data": {
      "image/svg+xml": [
       "<svg height=\"188pt\" viewBox=\"0.00 0.00 535.00 188.00\" width=\"535pt\" xmlns=\"http://www.w3.org/2000/svg\" xmlns:xlink=\"http://www.w3.org/1999/xlink\">\n",
       "<g class=\"graph\" id=\"graph0\" transform=\"scale(1 1) rotate(0) translate(4 184)\">\n",
       "<title>G</title>\n",
       "<polygon fill=\"white\" points=\"-4,4 -4,-184 531,-184 531,4 -4,4\" stroke=\"none\"/>\n",
       "<!-- king -->\n",
       "<g class=\"node\" id=\"node1\"><title>king</title>\n",
       "<ellipse cx=\"263\" cy=\"-162\" fill=\"none\" rx=\"27\" ry=\"18\" stroke=\"black\"/>\n",
       "<text font-family=\"Times,serif\" font-size=\"14.00\" text-anchor=\"middle\" x=\"263\" y=\"-158.3\">king</text>\n",
       "</g>\n",
       "<!-- lord0 -->\n",
       "<g class=\"node\" id=\"node2\"><title>lord0</title>\n",
       "<ellipse cx=\"127\" cy=\"-90\" fill=\"none\" rx=\"29.3722\" ry=\"18\" stroke=\"black\"/>\n",
       "<text font-family=\"Times,serif\" font-size=\"14.00\" text-anchor=\"middle\" x=\"127\" y=\"-86.3\">lord0</text>\n",
       "</g>\n",
       "<!-- king&#45;&#45;lord0 -->\n",
       "<g class=\"edge\" id=\"edge1\"><title>king--lord0</title>\n",
       "<path d=\"M242.345,-150.369C217.08,-137.365 174.505,-115.451 148.752,-102.196\" fill=\"none\" stroke=\"black\"/>\n",
       "</g>\n",
       "<!-- lord1 -->\n",
       "<g class=\"node\" id=\"node3\"><title>lord1</title>\n",
       "<ellipse cx=\"263\" cy=\"-90\" fill=\"none\" rx=\"29.3722\" ry=\"18\" stroke=\"black\"/>\n",
       "<text font-family=\"Times,serif\" font-size=\"14.00\" text-anchor=\"middle\" x=\"263\" y=\"-86.3\">lord1</text>\n",
       "</g>\n",
       "<!-- king&#45;&#45;lord1 -->\n",
       "<g class=\"edge\" id=\"edge2\"><title>king--lord1</title>\n",
       "<path d=\"M263,-143.697C263,-132.846 263,-118.917 263,-108.104\" fill=\"none\" stroke=\"black\"/>\n",
       "</g>\n",
       "<!-- lord2 -->\n",
       "<g class=\"node\" id=\"node4\"><title>lord2</title>\n",
       "<ellipse cx=\"400\" cy=\"-90\" fill=\"none\" rx=\"29.3722\" ry=\"18\" stroke=\"black\"/>\n",
       "<text font-family=\"Times,serif\" font-size=\"14.00\" text-anchor=\"middle\" x=\"400\" y=\"-86.3\">lord2</text>\n",
       "</g>\n",
       "<!-- king&#45;&#45;lord2 -->\n",
       "<g class=\"edge\" id=\"edge3\"><title>king--lord2</title>\n",
       "<path d=\"M283.807,-150.369C309.258,-137.365 352.145,-115.451 378.088,-102.196\" fill=\"none\" stroke=\"black\"/>\n",
       "</g>\n",
       "<!-- vassal0 -->\n",
       "<g class=\"node\" id=\"node5\"><title>vassal0</title>\n",
       "<ellipse cx=\"36\" cy=\"-18\" fill=\"none\" rx=\"36.096\" ry=\"18\" stroke=\"black\"/>\n",
       "<text font-family=\"Times,serif\" font-size=\"14.00\" text-anchor=\"middle\" x=\"36\" y=\"-14.3\">vassal0</text>\n",
       "</g>\n",
       "<!-- lord0&#45;&#45;vassal0 -->\n",
       "<g class=\"edge\" id=\"edge4\"><title>lord0--vassal0</title>\n",
       "<path d=\"M109.454,-75.5033C93.7534,-63.4257 70.8018,-45.7706 54.7449,-33.4192\" fill=\"none\" stroke=\"black\"/>\n",
       "</g>\n",
       "<!-- vassal1 -->\n",
       "<g class=\"node\" id=\"node6\"><title>vassal1</title>\n",
       "<ellipse cx=\"127\" cy=\"-18\" fill=\"none\" rx=\"36.096\" ry=\"18\" stroke=\"black\"/>\n",
       "<text font-family=\"Times,serif\" font-size=\"14.00\" text-anchor=\"middle\" x=\"127\" y=\"-14.3\">vassal1</text>\n",
       "</g>\n",
       "<!-- lord0&#45;&#45;vassal1 -->\n",
       "<g class=\"edge\" id=\"edge5\"><title>lord0--vassal1</title>\n",
       "<path d=\"M127,-71.6966C127,-60.8463 127,-46.9167 127,-36.1043\" fill=\"none\" stroke=\"black\"/>\n",
       "</g>\n",
       "<!-- vassal2 -->\n",
       "<g class=\"node\" id=\"node7\"><title>vassal2</title>\n",
       "<ellipse cx=\"218\" cy=\"-18\" fill=\"none\" rx=\"36.096\" ry=\"18\" stroke=\"black\"/>\n",
       "<text font-family=\"Times,serif\" font-size=\"14.00\" text-anchor=\"middle\" x=\"218\" y=\"-14.3\">vassal2</text>\n",
       "</g>\n",
       "<!-- lord1&#45;&#45;vassal2 -->\n",
       "<g class=\"edge\" id=\"edge6\"><title>lord1--vassal2</title>\n",
       "<path d=\"M252.789,-73.1159C245.528,-61.8213 235.804,-46.6956 228.483,-35.307\" fill=\"none\" stroke=\"black\"/>\n",
       "</g>\n",
       "<!-- vassal3 -->\n",
       "<g class=\"node\" id=\"node8\"><title>vassal3</title>\n",
       "<ellipse cx=\"309\" cy=\"-18\" fill=\"none\" rx=\"36.096\" ry=\"18\" stroke=\"black\"/>\n",
       "<text font-family=\"Times,serif\" font-size=\"14.00\" text-anchor=\"middle\" x=\"309\" y=\"-14.3\">vassal3</text>\n",
       "</g>\n",
       "<!-- lord1&#45;&#45;vassal3 -->\n",
       "<g class=\"edge\" id=\"edge7\"><title>lord1--vassal3</title>\n",
       "<path d=\"M273.438,-73.1159C280.86,-61.8213 290.8,-46.6956 298.284,-35.307\" fill=\"none\" stroke=\"black\"/>\n",
       "</g>\n",
       "<!-- vassal4 -->\n",
       "<g class=\"node\" id=\"node9\"><title>vassal4</title>\n",
       "<ellipse cx=\"400\" cy=\"-18\" fill=\"none\" rx=\"36.096\" ry=\"18\" stroke=\"black\"/>\n",
       "<text font-family=\"Times,serif\" font-size=\"14.00\" text-anchor=\"middle\" x=\"400\" y=\"-14.3\">vassal4</text>\n",
       "</g>\n",
       "<!-- lord2&#45;&#45;vassal4 -->\n",
       "<g class=\"edge\" id=\"edge8\"><title>lord2--vassal4</title>\n",
       "<path d=\"M400,-71.6966C400,-60.8463 400,-46.9167 400,-36.1043\" fill=\"none\" stroke=\"black\"/>\n",
       "</g>\n",
       "<!-- vassal5 -->\n",
       "<g class=\"node\" id=\"node10\"><title>vassal5</title>\n",
       "<ellipse cx=\"491\" cy=\"-18\" fill=\"none\" rx=\"36.096\" ry=\"18\" stroke=\"black\"/>\n",
       "<text font-family=\"Times,serif\" font-size=\"14.00\" text-anchor=\"middle\" x=\"491\" y=\"-14.3\">vassal5</text>\n",
       "</g>\n",
       "<!-- lord2&#45;&#45;vassal5 -->\n",
       "<g class=\"edge\" id=\"edge9\"><title>lord2--vassal5</title>\n",
       "<path d=\"M417.546,-75.5033C433.247,-63.4257 456.198,-45.7706 472.255,-33.4192\" fill=\"none\" stroke=\"black\"/>\n",
       "</g>\n",
       "</g>\n",
       "</svg>"
      ],
      "text/plain": [
       "<IPython.core.display.SVG object>"
      ]
     },
     "execution_count": 6,
     "metadata": {},
     "output_type": "execute_result"
    }
   ],
   "source": [
    "\n",
    "\n",
    "# first you create a new graph, you do that with pydot.Dot()\n",
    "graph = pydot.Dot(graph_type='graph')\n",
    "\n",
    "# the idea here is not to cover how to represent the hierarchical data\n",
    "# but rather how to graph it, so I'm not going to work on some fancy\n",
    "# recursive function to traverse a multidimensional array...\n",
    "# I'm going to hardcode stuff... sorry if that offends you\n",
    "\n",
    "# let's add the relationship between the king and vassals\n",
    "for i in range(3):\n",
    "    # we can get right into action by \"drawing\" edges between the nodes in our graph\n",
    "    # we do not need to CREATE nodes, but if you want to give them some custom style\n",
    "    # then I would recomend you to do so... let's cover that later\n",
    "    # the pydot.Edge() constructor receives two parameters, a source node and a destination\n",
    "    # node, they are just strings like you can see\n",
    "    edge = pydot.Edge(\"king\", \"lord%d\" % i)\n",
    "    # and we obviosuly need to add the edge to our graph\n",
    "    graph.add_edge(edge)\n",
    "\n",
    "# now let us add some vassals\n",
    "vassal_num = 0\n",
    "for i in range(3):\n",
    "    # we create new edges, now between our previous lords and the new vassals\n",
    "    # let us create two vassals for each lord\n",
    "    for j in range(2):\n",
    "        edge = pydot.Edge(\"lord%d\" % i, \"vassal%d\" % vassal_num)\n",
    "        graph.add_edge(edge)\n",
    "        vassal_num += 1\n",
    "\n",
    "# ok, we are set, let's save our graph into a file\n",
    "svg = graph.create_svg()\n",
    "SVG(svg)\n",
    "# and we are done!"
   ]
  },
  {
   "cell_type": "code",
   "execution_count": 7,
   "metadata": {
    "collapsed": true
   },
   "outputs": [],
   "source": [
    "dot_object = pydot.Dot(graph_name=\"main_graph\",rankdir=\"LR\", labelloc='b', \n",
    "                       labeljust='r', ranksep=1)\n",
    "dot_object.set_node_defaults(shape='circle', fixedsize='true',\n",
    "                             height=.85, width=.85, fontsize=24)\n",
    "node_eta = pydot.Node(name='eta', texlbl=r'\\eta', label='<&#951;>')\n",
    "dot_object.add_node(node_eta)\n",
    "\n",
    "node_alpha = pydot.Node(name='alpha', texlbl=r'\\alpha', label=\"<&#945;>\")\n",
    "dot_object.add_node(node_alpha)\n",
    "# K plate\n",
    "plate_k = pydot.Cluster(graph_name='plate_k', label='K', fontsize=24)\n",
    "node_beta = pydot.Node(name='beta', texlbl=r'\\beta', label='<&#946;<SUB>k</SUB>>')\n",
    "plate_k.add_node(node_beta)\n",
    "\n",
    "# add plate k to graph\n",
    "dot_object.add_subgraph(plate_k)\n",
    "\n",
    "# M plate\n",
    "plate_M = pydot.Cluster(graph_name='plate_M', label='M', fontsize=24)\n",
    "node_theta = pydot.Node(name='theta', texlbl=r'\\theta',\n",
    "                        label='<&#952;<SUB>m</SUB>>')\n",
    "plate_M.add_node(node_theta)\n",
    "\n",
    "# N plate\n",
    "plate_N = pydot.Cluster(graph_name='plate_N', label='N', fontsize=24)\n",
    "node_z = pydot.Node(name='z', texlbl='z_{m,n}', label='<z<SUB>m,n</SUB>>')\n",
    "plate_N.add_node(node_z)\n",
    "node_w = pydot.Node(name='w', texlbl='w_{m,n}', label='<w<SUB>m,n</SUB>>', \n",
    "                    style='filled', fillcolor='lightgray')\n",
    "plate_N.add_node(node_w)\n",
    "\n",
    "plate_M.add_subgraph(plate_N)\n",
    "dot_object.add_subgraph(plate_M)\n"
   ]
  },
  {
   "cell_type": "code",
   "execution_count": 8,
   "metadata": {
    "collapsed": true
   },
   "outputs": [],
   "source": [
    "# Add the edges\n",
    "dot_object.add_edge(pydot.Edge(node_alpha, node_theta))\n",
    "dot_object.add_edge(pydot.Edge(node_theta, node_z))\n",
    "dot_object.add_edge(pydot.Edge(node_z, node_w))\n",
    "dot_object.add_edge(pydot.Edge(node_w, node_beta, dir='back'))\n",
    "dot_object.add_edge(pydot.Edge(node_beta, node_eta, dir='back'))\n"
   ]
  },
  {
   "cell_type": "code",
   "execution_count": 9,
   "metadata": {
    "collapsed": false
   },
   "outputs": [
    {
     "data": {
      "image/svg+xml": [
       "<svg height=\"186pt\" viewBox=\"0.00 0.00 740.00 186.00\" width=\"740pt\" xmlns=\"http://www.w3.org/2000/svg\" xmlns:xlink=\"http://www.w3.org/1999/xlink\">\n",
       "<g class=\"graph\" id=\"graph0\" transform=\"scale(1 1) rotate(0) translate(4 182)\">\n",
       "<title>main_graph</title>\n",
       "<polygon fill=\"white\" points=\"-4,4 -4,-182 736,-182 736,4 -4,4\" stroke=\"none\"/>\n",
       "<g class=\"cluster\" id=\"clust1\"><title>cluster_plate_k</title>\n",
       "<polygon fill=\"none\" points=\"528,-50 528,-162 606,-162 606,-50 528,-50\" stroke=\"black\"/>\n",
       "<text font-family=\"Times,serif\" font-size=\"24.00\" text-anchor=\"middle\" x=\"589\" y=\"-60.8\">K</text>\n",
       "</g>\n",
       "<g class=\"cluster\" id=\"clust2\"><title>cluster_plate_M</title>\n",
       "<polygon fill=\"none\" points=\"126,-8 126,-170 480,-170 480,-8 126,-8\" stroke=\"black\"/>\n",
       "<text font-family=\"Times,serif\" font-size=\"24.00\" text-anchor=\"middle\" x=\"461\" y=\"-18.8\">M</text>\n",
       "</g>\n",
       "<g class=\"cluster\" id=\"clust3\"><title>cluster_plate_N</title>\n",
       "<polygon fill=\"none\" points=\"260,-50 260,-162 472,-162 472,-50 260,-50\" stroke=\"black\"/>\n",
       "<text font-family=\"Times,serif\" font-size=\"24.00\" text-anchor=\"middle\" x=\"455\" y=\"-60.8\">N</text>\n",
       "</g>\n",
       "<!-- eta -->\n",
       "<g class=\"node\" id=\"node1\"><title>eta</title>\n",
       "<ellipse cx=\"701\" cy=\"-123\" fill=\"none\" rx=\"30.5\" ry=\"30.5\" stroke=\"black\"/>\n",
       "<text font-family=\"Times,serif\" font-size=\"24.00\" text-anchor=\"start\" x=\"694.5\" y=\"-116.8\">η</text>\n",
       "</g>\n",
       "<!-- alpha -->\n",
       "<g class=\"node\" id=\"node2\"><title>alpha</title>\n",
       "<ellipse cx=\"31\" cy=\"-123\" fill=\"none\" rx=\"30.5\" ry=\"30.5\" stroke=\"black\"/>\n",
       "<text font-family=\"Times,serif\" font-size=\"24.00\" text-anchor=\"start\" x=\"24.5\" y=\"-116.8\">α</text>\n",
       "</g>\n",
       "<!-- theta -->\n",
       "<g class=\"node\" id=\"node4\"><title>theta</title>\n",
       "<ellipse cx=\"165\" cy=\"-123\" fill=\"none\" rx=\"30.5\" ry=\"30.5\" stroke=\"black\"/>\n",
       "<text font-family=\"Times,serif\" font-size=\"24.00\" text-anchor=\"start\" x=\"151\" y=\"-117.8\">θ</text>\n",
       "<text baseline-shift=\"sub\" font-family=\"Times,serif\" font-size=\"24.00\" text-anchor=\"start\" x=\"163\" y=\"-117.8\">m</text>\n",
       "</g>\n",
       "<!-- alpha&#45;&gt;theta -->\n",
       "<g class=\"edge\" id=\"edge1\"><title>alpha-&gt;theta</title>\n",
       "<path d=\"M61.6234,-123C80.1358,-123 104.201,-123 124.348,-123\" fill=\"none\" stroke=\"black\"/>\n",
       "<polygon fill=\"black\" points=\"124.476,-126.5 134.475,-123 124.475,-119.5 124.476,-126.5\" stroke=\"black\"/>\n",
       "</g>\n",
       "<!-- beta -->\n",
       "<g class=\"node\" id=\"node3\"><title>beta</title>\n",
       "<ellipse cx=\"567\" cy=\"-123\" fill=\"none\" rx=\"30.5\" ry=\"30.5\" stroke=\"black\"/>\n",
       "<text font-family=\"Times,serif\" font-size=\"24.00\" text-anchor=\"start\" x=\"555.5\" y=\"-117.8\">β</text>\n",
       "<text baseline-shift=\"sub\" font-family=\"Times,serif\" font-size=\"24.00\" text-anchor=\"start\" x=\"568.5\" y=\"-117.8\">k</text>\n",
       "</g>\n",
       "<!-- beta&#45;&gt;eta -->\n",
       "<g class=\"edge\" id=\"edge5\"><title>beta-&gt;eta</title>\n",
       "<path d=\"M607.76,-123C627.921,-123 651.983,-123 670.475,-123\" fill=\"none\" stroke=\"black\"/>\n",
       "<polygon fill=\"black\" points=\"607.623,-119.5 597.623,-123 607.623,-126.5 607.623,-119.5\" stroke=\"black\"/>\n",
       "</g>\n",
       "<!-- z -->\n",
       "<g class=\"node\" id=\"node5\"><title>z</title>\n",
       "<ellipse cx=\"299\" cy=\"-123\" fill=\"none\" rx=\"30.5\" ry=\"30.5\" stroke=\"black\"/>\n",
       "<text font-family=\"Times,serif\" font-size=\"24.00\" text-anchor=\"start\" x=\"278\" y=\"-117.8\">z</text>\n",
       "<text baseline-shift=\"sub\" font-family=\"Times,serif\" font-size=\"24.00\" text-anchor=\"start\" x=\"289\" y=\"-117.8\">m,n</text>\n",
       "</g>\n",
       "<!-- theta&#45;&gt;z -->\n",
       "<g class=\"edge\" id=\"edge2\"><title>theta-&gt;z</title>\n",
       "<path d=\"M195.623,-123C214.136,-123 238.201,-123 258.348,-123\" fill=\"none\" stroke=\"black\"/>\n",
       "<polygon fill=\"black\" points=\"258.476,-126.5 268.475,-123 258.475,-119.5 258.476,-126.5\" stroke=\"black\"/>\n",
       "</g>\n",
       "<!-- w -->\n",
       "<g class=\"node\" id=\"node6\"><title>w</title>\n",
       "<ellipse cx=\"433\" cy=\"-123\" fill=\"lightgray\" rx=\"30.5\" ry=\"30.5\" stroke=\"black\"/>\n",
       "<text font-family=\"Times,serif\" font-size=\"24.00\" text-anchor=\"start\" x=\"408.5\" y=\"-117.8\">w</text>\n",
       "<text baseline-shift=\"sub\" font-family=\"Times,serif\" font-size=\"24.00\" text-anchor=\"start\" x=\"426.5\" y=\"-117.8\">m,n</text>\n",
       "</g>\n",
       "<!-- z&#45;&gt;w -->\n",
       "<g class=\"edge\" id=\"edge3\"><title>z-&gt;w</title>\n",
       "<path d=\"M329.623,-123C348.136,-123 372.201,-123 392.348,-123\" fill=\"none\" stroke=\"black\"/>\n",
       "<polygon fill=\"black\" points=\"392.476,-126.5 402.475,-123 392.475,-119.5 392.476,-126.5\" stroke=\"black\"/>\n",
       "</g>\n",
       "<!-- w&#45;&gt;beta -->\n",
       "<g class=\"edge\" id=\"edge4\"><title>w-&gt;beta</title>\n",
       "<path d=\"M473.76,-123C493.921,-123 517.983,-123 536.475,-123\" fill=\"none\" stroke=\"black\"/>\n",
       "<polygon fill=\"black\" points=\"473.623,-119.5 463.623,-123 473.623,-126.5 473.623,-119.5\" stroke=\"black\"/>\n",
       "</g>\n",
       "</g>\n",
       "</svg>"
      ],
      "text/plain": [
       "<IPython.core.display.SVG object>"
      ]
     },
     "execution_count": 9,
     "metadata": {},
     "output_type": "execute_result"
    }
   ],
   "source": [
    "svg = dot_object.create_svg()\n",
    "SVG(svg)"
   ]
  },
  {
   "cell_type": "code",
   "execution_count": null,
   "metadata": {
    "collapsed": true
   },
   "outputs": [],
   "source": []
  }
 ],
 "metadata": {
  "kernelspec": {
   "display_name": "Python 2",
   "language": "python",
   "name": "python2"
  },
  "language_info": {
   "codemirror_mode": {
    "name": "ipython",
    "version": 2
   },
   "file_extension": ".py",
   "mimetype": "text/x-python",
   "name": "python",
   "nbconvert_exporter": "python",
   "pygments_lexer": "ipython2",
   "version": "2.7.10"
  }
 },
 "nbformat": 4,
 "nbformat_minor": 0
}
