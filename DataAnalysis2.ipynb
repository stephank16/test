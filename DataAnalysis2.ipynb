{
 "cells": [
  {
   "cell_type": "markdown",
   "metadata": {},
   "source": [
    "# Climate Scientist / Climate Data Manager Task: work with netcdf files\n",
    "- extract, add, change attributes"
   ]
  },
  {
   "cell_type": "code",
   "execution_count": 2,
   "metadata": {
    "collapsed": true
   },
   "outputs": [],
   "source": [
    "from netCDF4 import Dataset\n",
    "\n",
    "testfiledir = \"/home/stephan/Repos/Data/\""
   ]
  },
  {
   "cell_type": "code",
   "execution_count": null,
   "metadata": {
    "collapsed": false
   },
   "outputs": [],
   "source": [
    "esgf_data1 = Dataset(testfiledir+\"pr_day_MPI-ESM-LR_1pctCO2_r1i1p1_18500101-18591231.nc\",'r+')\n",
    "esgf_data2 = Dataset(testfiledir+\"pr_day_MPI-ESM-LR_1pctCO2_r1i1p1_18600101-18691231.nc\",'r+')"
   ]
  },
  {
   "cell_type": "code",
   "execution_count": null,
   "metadata": {
    "collapsed": false
   },
   "outputs": [],
   "source": [
    "print esgf_data1.variables\n",
    "print esgf_data1.dimensions\n",
    "print esgf_data1.groups"
   ]
  },
  {
   "cell_type": "code",
   "execution_count": null,
   "metadata": {
    "collapsed": false
   },
   "outputs": [],
   "source": [
    "print esgf_data1.tracking_id\n",
    "print esgf_data1.PID"
   ]
  },
  {
   "cell_type": "code",
   "execution_count": null,
   "metadata": {
    "collapsed": false
   },
   "outputs": [],
   "source": [
    "esgf_data1.tracking_id = \"123-und-schon-geändert\""
   ]
  },
  {
   "cell_type": "code",
   "execution_count": null,
   "metadata": {
    "collapsed": true
   },
   "outputs": [],
   "source": [
    "pid = esgf_data1.PID = '11.99x/dasistnepid'"
   ]
  },
  {
   "cell_type": "code",
   "execution_count": null,
   "metadata": {
    "collapsed": true
   },
   "outputs": [],
   "source": [
    "esgf_data1.close()"
   ]
  },
  {
   "cell_type": "code",
   "execution_count": 3,
   "metadata": {
    "collapsed": false
   },
   "outputs": [
    {
     "name": "stdout",
     "output_type": "stream",
     "text": [
      "netcdf pr_day_MPI-ESM-LR_1pctCO2_r1i1p1_18500101-18591231 {\r\n",
      "dimensions:\r\n",
      "\ttime = UNLIMITED ; // (3652 currently)\r\n",
      "\tlat = 96 ;\r\n",
      "\tlon = 192 ;\r\n",
      "\tbnds = 2 ;\r\n",
      "variables:\r\n",
      "\tdouble time(time) ;\r\n",
      "\t\ttime:bounds = \"time_bnds\" ;\r\n",
      "\t\ttime:units = \"days since 1850-1-1 00:00:00\" ;\r\n",
      "\t\ttime:calendar = \"proleptic_gregorian\" ;\r\n",
      "\t\ttime:axis = \"T\" ;\r\n",
      "\t\ttime:long_name = \"time\" ;\r\n",
      "\t\ttime:standard_name = \"time\" ;\r\n",
      "\tdouble time_bnds(time, bnds) ;\r\n",
      "\tdouble lat(lat) ;\r\n",
      "\t\tlat:bounds = \"lat_bnds\" ;\r\n",
      "\t\tlat:units = \"degrees_north\" ;\r\n",
      "\t\tlat:axis = \"Y\" ;\r\n",
      "\t\tlat:long_name = \"latitude\" ;\r\n",
      "\t\tlat:standard_name = \"latitude\" ;\r\n",
      "\tdouble lat_bnds(lat, bnds) ;\r\n",
      "\tdouble lon(lon) ;\r\n",
      "\t\tlon:bounds = \"lon_bnds\" ;\r\n",
      "\t\tlon:units = \"degrees_east\" ;\r\n",
      "\t\tlon:axis = \"X\" ;\r\n",
      "\t\tlon:long_name = \"longitude\" ;\r\n",
      "\t\tlon:standard_name = \"longitude\" ;\r\n",
      "\tdouble lon_bnds(lon, bnds) ;\r\n",
      "\tfloat pr(time, lat, lon) ;\r\n",
      "\t\tpr:standard_name = \"precipitation_flux\" ;\r\n",
      "\t\tpr:long_name = \"Precipitation\" ;\r\n",
      "\t\tpr:comment = \"at surface; includes both liquid and solid phases from all types of clouds (both large-scale and convective)\" ;\r\n",
      "\t\tpr:units = \"kg m-2 s-1\" ;\r\n",
      "\t\tpr:cell_methods = \"time: mean\" ;\r\n",
      "\t\tpr:cell_measures = \"area: areacella\" ;\r\n",
      "\t\tpr:history = \"2011-05-31T14:07:36Z altered by CMOR: replaced missing value flag (2e+20) with standard missing value (1e+20).\" ;\r\n",
      "\t\tpr:missing_value = 1.e+20f ;\r\n",
      "\t\tpr:_FillValue = 1.e+20f ;\r\n",
      "\t\tpr:associated_files = \"baseURL: http://cmip-pcmdi.llnl.gov/CMIP5/dataLocation gridspecFile: gridspec_atmos_fx_MPI-ESM-LR_1pctCO2_r0i0p0.nc areacella: areacella_fx_MPI-ESM-LR_1pctCO2_r0i0p0.nc\" ;\r\n",
      "\r\n",
      "// global attributes:\r\n",
      "\t\t:institution = \"Max Planck Institute for Meteorology\" ;\r\n",
      "\t\t:institute_id = \"MPI-M\" ;\r\n",
      "\t\t:experiment_id = \"1pctCO2\" ;\r\n",
      "\t\t:source = \"MPI-ESM-LR 2011; URL: http://svn.zmaw.de/svn/cosmos/branches/releases/mpi-esm-cmip5/src/mod; atmosphere: ECHAM6 (REV: 4571), T63L47; land: JSBACH (REV: 4571); ocean: MPIOM (REV: 4571), GR15L40; sea ice: 4571; marine bgc: HAMOCC (REV: 4571);\" ;\r\n",
      "\t\t:model_id = \"MPI-ESM-LR\" ;\r\n",
      "\t\t:forcing = \"N/A\" ;\r\n",
      "\t\t:parent_experiment_id = \"piControl\" ;\r\n",
      "\t\t:parent_experiment_rip = \"r1i1p1\" ;\r\n",
      "\t\t:branch_time = 10957. ;\r\n",
      "\t\t:contact = \"cmip5-mpi-esm@dkrz.de\" ;\r\n",
      "\t\t:history = \"Model raw output postprocessing with modelling environment (IMDI) at DKRZ: URL: http://svn-mad.zmaw.de/svn/mad/Model/IMDI/trunk, REV: 3208 2011-05-31T14:07:31Z CMOR rewrote data to comply with CF standards and CMIP5 requirements.\" ;\r\n",
      "\t\t:references = \"ECHAM6: n/a; JSBACH: Raddatz et al., 2007. Will the tropical land biosphere dominate the climate-carbon cycle feedback during the twenty first century? Climate Dynamics, 29, 565-574, doi 10.1007/s00382-007-0247-8;  MPIOM: Marsland et al., 2003. The Max-Planck-Institute global ocean/sea ice model with orthogonal curvilinear coordinates. Ocean Modelling, 5, 91-127;  HAMOCC: http://www.mpimet.mpg.de/fileadmin/models/MPIOM/HAMOCC5.1_TECHNICAL_REPORT.pdf;\" ;\r\n",
      "\t\t:initialization_method = 1 ;\r\n",
      "\t\t:physics_version = 1 ;\r\n",
      "\t\t:tracking_id = \"e1e96bc1-e8a9-49f1-8002-72af88f777be\" ;\r\n",
      "\t\t:product = \"output\" ;\r\n",
      "\t\t:experiment = \"1 percent per year CO2\" ;\r\n",
      "\t\t:frequency = \"day\" ;\r\n",
      "\t\t:creation_date = \"2011-05-31T14:07:36Z\" ;\r\n",
      "\t\t:Conventions = \"CF-1.4\" ;\r\n",
      "\t\t:project_id = \"CMIP5\" ;\r\n",
      "\t\t:table_id = \"Table day (27 April 2011) 86d1558d99b6ed1e7a886ab3fd717b58\" ;\r\n",
      "\t\t:title = \"MPI-ESM-LR model output prepared for CMIP5 1 percent per year CO2\" ;\r\n",
      "\t\t:parent_experiment = \"pre-industrial control\" ;\r\n",
      "\t\t:modeling_realm = \"atmos\" ;\r\n",
      "\t\t:realization = 1 ;\r\n",
      "\t\t:cmor_version = \"2.5.9\" ;\r\n",
      "}\r\n"
     ]
    }
   ],
   "source": [
    "!ncdump -h /home/stephan/Repos/Data/pr_day_MPI-ESM-LR_1pctCO2_r1i1p1_18500101-18591231.nc"
   ]
  },
  {
   "cell_type": "code",
   "execution_count": 1,
   "metadata": {
    "collapsed": true
   },
   "outputs": [],
   "source": [
    "## own (easyly modifyable) ncdump version "
   ]
  },
  {
   "cell_type": "code",
   "execution_count": null,
   "metadata": {
    "collapsed": true
   },
   "outputs": [],
   "source": [
    "def ncdump(nc_fid, verb=True):\n",
    "    '''\n",
    "    ncdump outputs dimensions, variables and their attribute information.\n",
    "    The information is similar to that of NCAR's ncdump utility.\n",
    "    ncdump requires a valid instance of Dataset.\n",
    "\n",
    "    Parameters\n",
    "    ----------\n",
    "    nc_fid : netCDF4.Dataset\n",
    "        A netCDF4 dateset object\n",
    "    verb : Boolean\n",
    "        whether or not nc_attrs, nc_dims, and nc_vars are printed\n",
    "\n",
    "    Returns\n",
    "    -------\n",
    "    nc_attrs : list\n",
    "        A Python list of the NetCDF file global attributes\n",
    "    nc_dims : list\n",
    "        A Python list of the NetCDF file dimensions\n",
    "    nc_vars : list\n",
    "        A Python list of the NetCDF file variables\n",
    "    '''\n",
    "    def print_ncattr(key):\n",
    "        \"\"\"\n",
    "        Prints the NetCDF file attributes for a given key\n",
    "\n",
    "        Parameters\n",
    "        ----------\n",
    "        key : unicode\n",
    "            a valid netCDF4.Dataset.variables key\n",
    "        \"\"\"\n",
    "        try:\n",
    "            print \"\\t\\ttype:\", repr(nc_fid.variables[key].dtype)\n",
    "            for ncattr in nc_fid.variables[key].ncattrs():\n",
    "                print '\\t\\t%s:' % ncattr,\\\n",
    "                      repr(nc_fid.variables[key].getncattr(ncattr))\n",
    "        except KeyError:\n",
    "            print \"\\t\\tWARNING: %s does not contain variable attributes\" % key\n",
    "\n",
    "    # NetCDF global attributes\n",
    "    nc_attrs = nc_fid.ncattrs()\n",
    "    if verb:\n",
    "        print \"NetCDF Global Attributes:\"\n",
    "        for nc_attr in nc_attrs:\n",
    "            print '\\t%s:' % nc_attr, repr(nc_fid.getncattr(nc_attr))\n",
    "    nc_dims = [dim for dim in nc_fid.dimensions]  # list of nc dimensions\n",
    "    # Dimension shape information.\n",
    "    if verb:\n",
    "        print \"NetCDF dimension information:\"\n",
    "        for dim in nc_dims:\n",
    "            print \"\\tName:\", dim \n",
    "            print \"\\t\\tsize:\", len(nc_fid.dimensions[dim])\n",
    "            print_ncattr(dim)\n",
    "    # Variable information.\n",
    "    nc_vars = [var for var in nc_fid.variables]  # list of nc variables\n",
    "    if verb:\n",
    "        print \"NetCDF variable information:\"\n",
    "        for var in nc_vars:\n",
    "            if var not in nc_dims:\n",
    "                print '\\tName:', var\n",
    "                print \"\\t\\tdimensions:\", nc_fid.variables[var].dimensions\n",
    "                print \"\\t\\tsize:\", nc_fid.variables[var].size\n",
    "                print_ncattr(var)\n",
    "    return nc_attrs, nc_dims, nc_vars"
   ]
  },
  {
   "cell_type": "code",
   "execution_count": null,
   "metadata": {
    "collapsed": false
   },
   "outputs": [],
   "source": [
    "esgf_data1.close()\n"
   ]
  },
  {
   "cell_type": "code",
   "execution_count": null,
   "metadata": {
    "collapsed": true
   },
   "outputs": [],
   "source": []
  },
  {
   "cell_type": "code",
   "execution_count": null,
   "metadata": {
    "collapsed": false
   },
   "outputs": [],
   "source": []
  }
 ],
 "metadata": {
  "kernelspec": {
   "display_name": "Python 2",
   "language": "python",
   "name": "python2"
  },
  "language_info": {
   "codemirror_mode": {
    "name": "ipython",
    "version": 2
   },
   "file_extension": ".py",
   "mimetype": "text/x-python",
   "name": "python",
   "nbconvert_exporter": "python",
   "pygments_lexer": "ipython2",
   "version": "2.7.10"
  }
 },
 "nbformat": 4,
 "nbformat_minor": 0
}
