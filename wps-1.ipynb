{
 "cells": [
  {
   "cell_type": "markdown",
   "metadata": {},
   "source": [
    "# WPS interaction tests"
   ]
  },
  {
   "cell_type": "code",
   "execution_count": 1,
   "metadata": {
    "collapsed": true
   },
   "outputs": [],
   "source": [
    "# WPS endpoints:\n",
    "\n",
    "wps_emu = \"http://localhost:8094/wps\"\n",
    "wps_hummingbird = \"http://localhost:8092/wps\"\n",
    "wps_phoenix = \"http://localhost:8091/wps\"\n",
    "phoenix_csw = \"http://localhost:8082/csw\""
   ]
  },
  {
   "cell_type": "markdown",
   "metadata": {},
   "source": [
    "### First a simple \"hello world\" execute request for the emu wps "
   ]
  },
  {
   "cell_type": "code",
   "execution_count": 2,
   "metadata": {
    "collapsed": false
   },
   "outputs": [],
   "source": [
    "req_url = \"{wps_url}?\" +\\\n",
    "    \"&request=Execute\" +\\\n",
    "    \"&service=WPS\" +\\\n",
    "    \"&version=1.0.0\" +\\\n",
    "    \"&identifier={identifier}\" +\\\n",
    "    \"&DataInputs={inputs}\""
   ]
  },
  {
   "cell_type": "code",
   "execution_count": 3,
   "metadata": {
    "collapsed": false
   },
   "outputs": [],
   "source": [
    "url=req_url.format(wps_url=wps_emu,identifier=\"helloworld\", inputs=\"user=jupyter-frontend\")"
   ]
  },
  {
   "cell_type": "code",
   "execution_count": 4,
   "metadata": {
    "collapsed": false
   },
   "outputs": [
    {
     "name": "stdout",
     "output_type": "stream",
     "text": [
      "http://localhost:8094/wps?&request=Execute&service=WPS&version=1.0.0&identifier=helloworld&DataInputs=user=jupyter-frontend\n"
     ]
    }
   ],
   "source": [
    "print url\n"
   ]
  },
  {
   "cell_type": "markdown",
   "metadata": {},
   "source": [
    "## GetCapabilities Request"
   ]
  },
  {
   "cell_type": "code",
   "execution_count": 5,
   "metadata": {
    "collapsed": true
   },
   "outputs": [],
   "source": [
    "req_url = \"{wps_url}?\" +\\\n",
    "          \"&request=GetCapabilities\" +\\\n",
    "          \"&service=WPS\" +\\\n",
    "          \"&version=1.0.0\""
   ]
  },
  {
   "cell_type": "code",
   "execution_count": 6,
   "metadata": {
    "collapsed": false
   },
   "outputs": [
    {
     "name": "stdout",
     "output_type": "stream",
     "text": [
      "http://localhost:8092/wps?&request=GetCapabilities&service=WPS&version=1.0.0\n"
     ]
    }
   ],
   "source": [
    "\n",
    "url = req_url.format(wps_url=wps_hummingbird)\n",
    "print url"
   ]
  },
  {
   "cell_type": "markdown",
   "metadata": {},
   "source": [
    "## Describe Process Request"
   ]
  },
  {
   "cell_type": "code",
   "execution_count": 29,
   "metadata": {
    "collapsed": true
   },
   "outputs": [],
   "source": [
    "req_url = \"{wps_url}?\" +\\\n",
    "          \"&request=DescribeProcess\" +\\\n",
    "          \"&service=WPS\" +\\\n",
    "          \"&version=1.0.0\" +\\\n",
    "          \"&identifier={identifier}\""
   ]
  },
  {
   "cell_type": "code",
   "execution_count": 30,
   "metadata": {
    "collapsed": false
   },
   "outputs": [
    {
     "name": "stdout",
     "output_type": "stream",
     "text": [
      "http://localhost:8092/wps?&request=DescribeProcess&service=WPS&version=1.0.0&identifier=qa_cfchecker\n"
     ]
    }
   ],
   "source": [
    "url = req_url.format(wps_url=wps_hummingbird, identifier=\"qa_cfchecker\")\n",
    "print url"
   ]
  },
  {
   "cell_type": "code",
   "execution_count": 31,
   "metadata": {
    "collapsed": false
   },
   "outputs": [
    {
     "name": "stdout",
     "output_type": "stream",
     "text": [
      "http://localhost:8092/wps?&request=DescribeProcess&service=WPS&version=1.0.0&identifier=cdo_sinfo\n"
     ]
    }
   ],
   "source": [
    "url = req_url.format(wps_url=wps_hummingbird, identifier=\"cdo_sinfo\")\n",
    "print url"
   ]
  },
  {
   "cell_type": "markdown",
   "metadata": {},
   "source": [
    "## Execute Request"
   ]
  },
  {
   "cell_type": "code",
   "execution_count": 32,
   "metadata": {
    "collapsed": true
   },
   "outputs": [],
   "source": [
    "req_url = \"{wps_url}?\" +\\\n",
    "          \"&request=Execute\" +\\\n",
    "          \"&service=WPS\" +\\\n",
    "          \"&version=1.0.0\" +\\\n",
    "          \"&identifier={identifier}\" +\\\n",
    "          \"&DataInputs={inputs}\""
   ]
  },
  {
   "cell_type": "code",
   "execution_count": 38,
   "metadata": {
    "collapsed": false
   },
   "outputs": [
    {
     "name": "stdout",
     "output_type": "stream",
     "text": [
      "http://localhost:8092/wps?&request=Execute&service=WPS&version=1.0.0&identifier=cdo_sinfo&DataInputs=netcdf_file='http://data.nodc.noaa.gov/thredds/fileServer/woa/heat_content/seasonal_ocean_heat_content.nc'\n"
     ]
    }
   ],
   "source": [
    "url = req_url.format(wps_url=wps_hummingbird, identifier=\"cdo_sinfo\",\n",
    "                     inputs=\"\"\"netcdf_file='http://data.nodc.noaa.gov/thredds/fileServer/woa/heat_content/seasonal_ocean_heat_content.nc'\"\"\")\n",
    "\n",
    "print url"
   ]
  },
  {
   "cell_type": "code",
   "execution_count": null,
   "metadata": {
    "collapsed": true
   },
   "outputs": [],
   "source": []
  }
 ],
 "metadata": {
  "kernelspec": {
   "display_name": "Python 2",
   "language": "python",
   "name": "python2"
  },
  "language_info": {
   "codemirror_mode": {
    "name": "ipython",
    "version": 2
   },
   "file_extension": ".py",
   "mimetype": "text/x-python",
   "name": "python",
   "nbconvert_exporter": "python",
   "pygments_lexer": "ipython2",
   "version": "2.7.10"
  }
 },
 "nbformat": 4,
 "nbformat_minor": 0
}
