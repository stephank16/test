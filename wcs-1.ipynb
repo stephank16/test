{
 "cells": [
  {
   "cell_type": "markdown",
   "metadata": {},
   "source": [
    "## OWSlib based birdhouse WCS interaction"
   ]
  },
  {
   "cell_type": "code",
   "execution_count": 1,
   "metadata": {
    "collapsed": true
   },
   "outputs": [],
   "source": []
  },
  {
   "cell_type": "code",
   "execution_count": 32,
   "metadata": {
    "collapsed": true
   },
   "outputs": [],
   "source": [
    "endpoint = 'http://localhost:8082/csw'\n",
    "# connect to CSW, explore it's properties\n",
    "#endpoint = 'http://www.ngdc.noaa.gov/geoportal/csw' # NGDC Geoportal\n",
    "#endpoint = 'http://data.nodc.noaa.gov/geoportal/csw'  # NODC Geoportal: collection level\n",
    "    \n",
    "#endpoint = 'http://geodiscover.cgdi.ca/wes/serviceManagerCSW/csw'  # NRCAN CUSTOM\n",
    "#endpoint = 'http://geoport.whoi.edu/gi-cat/services/cswiso' # USGS Woods Hole GI_CAT\n",
    "#endpoint = 'http://cida.usgs.gov/gdp/geonetwork/srv/en/csw' # USGS CIDA Geonetwork\n",
    "#endpoint = 'http://www.nodc.noaa.gov/geoportal/csw'   # NODC Geoportal: granule level\n"
   ]
  },
  {
   "cell_type": "code",
   "execution_count": 31,
   "metadata": {
    "collapsed": true
   },
   "outputs": [],
   "source": [
    "from owslib.csw import CatalogueServiceWeb\n",
    "from owslib import fes\n",
    "csw = CatalogueServiceWeb('http://localhost:8082/csw')"
   ]
  },
  {
   "cell_type": "code",
   "execution_count": 2,
   "metadata": {
    "collapsed": false
   },
   "outputs": [
    {
     "data": {
      "text/plain": [
       "'2.0.2'"
      ]
     },
     "execution_count": 2,
     "metadata": {},
     "output_type": "execute_result"
    }
   ],
   "source": [
    "csw.identification.type\n",
    "csw.version"
   ]
  },
  {
   "cell_type": "code",
   "execution_count": 3,
   "metadata": {
    "collapsed": false
   },
   "outputs": [
    {
     "data": {
      "text/plain": [
       "['GetCapabilities',\n",
       " 'Transaction',\n",
       " 'GetRepositoryItem',\n",
       " 'DescribeRecord',\n",
       " 'GetDomain',\n",
       " 'GetRecordById',\n",
       " 'GetRecords',\n",
       " 'Harvest']"
      ]
     },
     "execution_count": 3,
     "metadata": {},
     "output_type": "execute_result"
    }
   ],
   "source": [
    "[op.name for op in csw.operations]"
   ]
  },
  {
   "cell_type": "code",
   "execution_count": 4,
   "metadata": {
    "collapsed": false
   },
   "outputs": [
    {
     "data": {
      "text/plain": [
       "{'matches': 3, 'nextrecord': 0, 'returned': 3}"
      ]
     },
     "execution_count": 4,
     "metadata": {},
     "output_type": "execute_result"
    }
   ],
   "source": [
    "csw.getrecords2()\n",
    "csw.results"
   ]
  },
  {
   "cell_type": "code",
   "execution_count": 5,
   "metadata": {
    "collapsed": true
   },
   "outputs": [],
   "source": [
    "from owslib.fes import PropertyIsEqualTo, PropertyIsLike, BBox"
   ]
  },
  {
   "cell_type": "code",
   "execution_count": 6,
   "metadata": {
    "collapsed": false
   },
   "outputs": [
    {
     "data": {
      "text/plain": [
       "{'matches': 3, 'nextrecord': 0, 'returned': 3}"
      ]
     },
     "execution_count": 6,
     "metadata": {},
     "output_type": "execute_result"
    }
   ],
   "source": [
    "csw.getrecords2(maxrecords=5)\n",
    "csw.results"
   ]
  },
  {
   "cell_type": "code",
   "execution_count": 18,
   "metadata": {
    "collapsed": false
   },
   "outputs": [
    {
     "data": {
      "text/plain": [
       "{'matches': 3, 'nextrecord': 0, 'returned': 3}"
      ]
     },
     "execution_count": 18,
     "metadata": {},
     "output_type": "execute_result"
    }
   ],
   "source": [
    "test_query = PropertyIsEqualTo('csw:AnyText', 'test')\n",
    "csw.getrecords2(constraints=[test_query], maxrecords=20)\n",
    "csw.results"
   ]
  },
  {
   "cell_type": "code",
   "execution_count": 35,
   "metadata": {
    "collapsed": false
   },
   "outputs": [],
   "source": [
    "def displayrecords(url):\n",
    "    try:\n",
    "        csw = CatalogueServiceWeb(url)\n",
    "        csw.getrecords2()\n",
    "        csw.results\n",
    "        for rec in csw.records:\n",
    "            print csw.records[rec].title\n",
    "    except:\n",
    "        print 'something went wrong'\n",
    " "
   ]
  },
  {
   "cell_type": "code",
   "execution_count": 36,
   "metadata": {
    "collapsed": false
   },
   "outputs": [
    {
     "name": "stdout",
     "output_type": "stream",
     "text": [
      "Malleefowl\n",
      "testpub1\n",
      "testpub2\n"
     ]
    }
   ],
   "source": [
    "displayrecords(endpoint)"
   ]
  },
  {
   "cell_type": "code",
   "execution_count": 46,
   "metadata": {
    "collapsed": false
   },
   "outputs": [
    {
     "name": "stdout",
     "output_type": "stream",
     "text": [
      "urn:uuid:a6e37330-817b-45ca-aaaf-62d7acf51f11\n",
      "Malleefowl Processes (esgf, workflow, publish, security, ...)\n",
      "None\n",
      "['WPS', 'PyWPS', 'Birdhouse', 'malleefowl']\n",
      "Malleefowl\n",
      "WPS\n",
      "None\n",
      "service\n",
      "-----------------------------------------\n",
      "urn:uuid:f3a84f97-ae8f-48f7-a13a-ac87eb0baf3e\n",
      "test publication 1 dummy\n",
      "2015-10-07T13:37:35Z\n",
      "['test', 'data']\n",
      "testpub1\n",
      "txt\n",
      "None\n",
      "dataset\n",
      "-----------------------------------------\n",
      "urn:uuid:e69f2b39-b783-45d8-9db8-536a47909fae\n",
      "test publication 1 dummy + type\n",
      "2015-10-07T14:30:25Z\n",
      "['test', 'service']\n",
      "testpub2\n",
      "ws\n",
      "None\n",
      "service\n",
      "-----------------------------------------\n"
     ]
    }
   ],
   "source": [
    "for rec,item in csw.records.iteritems():\n",
    "    print rec\n",
    "    print item.abstract\n",
    "    print item.modified\n",
    "    print item.subjects\n",
    "    print item.title\n",
    "    print item.format\n",
    "    print item.creator\n",
    "    print item.type\n",
    "    print '-----------------------------------------'"
   ]
  },
  {
   "cell_type": "code",
   "execution_count": 41,
   "metadata": {
    "collapsed": false,
    "scrolled": true
   },
   "outputs": [
    {
     "name": "stdout",
     "output_type": "stream",
     "text": [
      "['urn:uuid:a6e37330-817b-45ca-aaaf-62d7acf51f11', 'urn:uuid:f3a84f97-ae8f-48f7-a13a-ac87eb0baf3e', 'urn:uuid:e69f2b39-b783-45d8-9db8-536a47909fae']\n"
     ]
    }
   ],
   "source": [
    "print(csw.records.keys())"
   ]
  },
  {
   "cell_type": "code",
   "execution_count": 22,
   "metadata": {
    "collapsed": false
   },
   "outputs": [],
   "source": [
    "\n",
    "# changed template to use \"type\" element\n",
    "#\n",
    "#csw.transaction(ttype=\"insert\", typename='csw:Record', record=str(record))\n",
    "\n",
    "from mako.template import Template\n",
    "import uuid\n",
    "def publish(my_csw, record):\n",
    "    from os.path import join, dirname\n",
    "\n",
    "    record['identifier'] = uuid.uuid4().get_urn()\n",
    "    templ_dc = Template(filename=\"dublin_core.xml\")\n",
    "    my_csw.transaction(ttype=\"insert\", typename='csw:Record', record=str(templ_dc.render(**record)))\n",
    "    \n",
    "record = {}\n",
    "record[\"keywords\"]='test,service'\n",
    "record[\"abstract\"]='test publication 1 dummy + type'\n",
    "record['title']='testpub2'\n",
    "record['format']='ws'\n",
    "record['creator']='Stephan Kindermann'\n",
    "record['source']='manual ingest'\n",
    "record['rights']='open'\n",
    "record['type']='service'"
   ]
  },
  {
   "cell_type": "code",
   "execution_count": 18,
   "metadata": {
    "collapsed": false
   },
   "outputs": [
    {
     "name": "stdout",
     "output_type": "stream",
     "text": [
      "{'rights': 'open', 'format': 'txt', 'abstract': 'test publication 1 dummy', 'creator': 'Stephan Kindermann', 'source': 'manual ingest', 'keywords': 'test,data', 'title': 'testpub1'}\n"
     ]
    }
   ],
   "source": [
    "print record"
   ]
  },
  {
   "cell_type": "code",
   "execution_count": 23,
   "metadata": {
    "collapsed": false
   },
   "outputs": [],
   "source": [
    "publish(csw,record)"
   ]
  },
  {
   "cell_type": "code",
   "execution_count": 47,
   "metadata": {
    "collapsed": false
   },
   "outputs": [
    {
     "data": {
      "text/plain": [
       "{'matches': 0, 'nextrecord': 0, 'returned': 0}"
      ]
     },
     "execution_count": 47,
     "metadata": {},
     "output_type": "execute_result"
    }
   ],
   "source": [
    "csw.getrecords2(cql='csw:AnyText like \"%testtt%\"')\n",
    "csw.results"
   ]
  },
  {
   "cell_type": "markdown",
   "metadata": {
    "collapsed": true
   },
   "source": [
    "Links\n",
    "* https://github.com/rsignell-usgs\n",
    "* http://nbviewer.ipython.org/github/nccoos/ioos-vocabulary-search/blob/master/examples/example_csw_ngdc_geoportal.ipynb\n",
    "* https://www.wakari.io/sharing/bundle/rsignell/NGDC-CSW-DAP\n",
    "* https://www.wakari.io/sharing/bundle/rsignell/DATA.NOAA.GOV-CSW-DAP\n",
    "* https://gist.github.com/epifanio/5452800\n",
    "* https://geopython.github.io/pycsw-workshop/docs/advanced/advanced-exercises.html"
   ]
  }
 ],
 "metadata": {
  "kernelspec": {
   "display_name": "Python 2",
   "language": "python",
   "name": "python2"
  },
  "language_info": {
   "codemirror_mode": {
    "name": "ipython",
    "version": 2
   },
   "file_extension": ".py",
   "mimetype": "text/x-python",
   "name": "python",
   "nbconvert_exporter": "python",
   "pygments_lexer": "ipython2",
   "version": "2.7.10"
  }
 },
 "nbformat": 4,
 "nbformat_minor": 0
}
