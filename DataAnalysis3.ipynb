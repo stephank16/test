{
 "cells": [
  {
   "cell_type": "markdown",
   "metadata": {},
   "source": [
    "# A (climate) data manager example notebook\n",
    "- connect to (management) databases\n",
    "- do things on file system things\n",
    "- interact with databases\n",
    "- look into and check climate data\n",
    "- change metadata and associate data with identifiers\n",
    "- ..."
   ]
  },
  {
   "cell_type": "markdown",
   "metadata": {},
   "source": [
    "### Task0 : keep track of data ingest and calculate and check checksums "
   ]
  },
  {
   "cell_type": "code",
   "execution_count": 3,
   "metadata": {
    "collapsed": false
   },
   "outputs": [
    {
     "name": "stderr",
     "output_type": "stream",
     "text": [
      "/home/stephan/anaconda/envs/scientific1/lib/python2.7/site-packages/IPython/config.py:13: ShimWarning: The `IPython.config` package has been deprecated. You should import from traitlets.config instead.\n",
      "  \"You should import from traitlets.config instead.\", ShimWarning)\n",
      "/home/stephan/anaconda/envs/scientific1/lib/python2.7/site-packages/IPython/utils/traitlets.py:5: UserWarning: IPython.utils.traitlets has moved to a top-level traitlets package.\n",
      "  warn(\"IPython.utils.traitlets has moved to a top-level traitlets package.\")\n"
     ]
    }
   ],
   "source": [
    "%load_ext sql"
   ]
  },
  {
   "cell_type": "code",
   "execution_count": 4,
   "metadata": {
    "collapsed": false
   },
   "outputs": [
    {
     "data": {
      "text/plain": [
       "u'Connected: None@ingest.db'"
      ]
     },
     "execution_count": 4,
     "metadata": {},
     "output_type": "execute_result"
    }
   ],
   "source": [
    "%sql sqlite:///ingest.db"
   ]
  },
  {
   "cell_type": "code",
   "execution_count": 17,
   "metadata": {
    "collapsed": false
   },
   "outputs": [
    {
     "name": "stdout",
     "output_type": "stream",
     "text": [
      "/home/stephan/Repos/test\n",
      "insgesamt 2893888\n",
      "drwxrwxrwx 2 stephan stephan      4096 Sep  2 11:40 .\n",
      "drwxr-xr-x 8 stephan stephan      4096 Sep  2 09:32 ..\n",
      "-rwxr-x--- 1 stephan stephan 269357180 Sep  2 09:32 pr_day_MPI-ESM-LR_1pctCO2_r1i1p1_18500101-18591231.nc\n",
      "-rwxr-x--- 1 stephan stephan 269430932 Sep  2 09:32 pr_day_MPI-ESM-LR_1pctCO2_r1i1p1_18600101-18691231.nc\n",
      "-rwxr-x--- 1 stephan stephan 269357180 Sep  2 09:32 pr_day_MPI-ESM-LR_1pctCO2_r1i1p1_18700101-18791231.nc\n",
      "-rwxr-x--- 1 stephan stephan 269430672 Sep  2 09:32 psl_day_MPI-ESM-LR_1pctCO2_r1i1p1_18600101-18691231.nc\n",
      "-rwxr-x--- 1 stephan stephan 269356920 Sep  2 09:32 psl_day_MPI-ESM-LR_1pctCO2_r1i1p1_18700101-18791231.nc\n",
      "-rwxr-x--- 1 stephan stephan 269430672 Sep  2 09:33 psl_day_MPI-ESM-LR_1pctCO2_r1i1p1_19800101-19891231.nc\n",
      "-rwxr-x--- 1 stephan stephan 269356920 Sep  2 09:33 psl_day_MPI-ESM-LR_1pctCO2_r1i1p1_19900101-19991231.nc\n",
      "-rwxr-x--- 1 stephan stephan 269357248 Sep  2 09:33 tasmin_day_MPI-ESM-LR_1pctCO2_r1i1p1_19700101-19791231.nc\n",
      "-rwxr-x--- 1 stephan stephan 269431000 Sep  2 09:33 tasmin_day_MPI-ESM-LR_1pctCO2_r1i1p1_19800101-19891231.nc\n",
      "-rwxr-x--- 1 stephan stephan 269357248 Sep  2 09:33 tasmin_day_MPI-ESM-LR_1pctCO2_r1i1p1_19900101-19991231.nc\n",
      "-rwxr-x--- 1 stephan stephan 269430932 Sep  2 11:39 _tmp_file_999\n"
     ]
    }
   ],
   "source": [
    "%%bash\n",
    "pwd\n",
    "ls -al ~stephan/Repos/Data\n"
   ]
  },
  {
   "cell_type": "code",
   "execution_count": 12,
   "metadata": {
    "collapsed": false
   },
   "outputs": [
    {
     "name": "stdout",
     "output_type": "stream",
     "text": [
      "CPU times: user 458 ms, sys: 53.4 ms, total: 511 ms\n",
      "Wall time: 522 ms\n",
      "a9dceb7c95dc715cec503ae58b184298\n"
     ]
    }
   ],
   "source": [
    "%time chksum = generate_file_chksum('/home/stephan/Repos/Data/','_tmp_file_999',\"md5\")\n",
    "print chksum"
   ]
  },
  {
   "cell_type": "code",
   "execution_count": 16,
   "metadata": {
    "collapsed": false
   },
   "outputs": [
    {
     "name": "stdout",
     "output_type": "stream",
     "text": [
      "Done.\n",
      "pr_day_MPI-ESM-LR_1pctCO2_r1i1p1_18600101-18691231.nc\n"
     ]
    }
   ],
   "source": [
    "result = %sql select * from ingest_files where checksum='md5:a9dceb7c95dc715cec503ae58b184298'\n",
    "\n",
    "#print result\n",
    "(aggregation_name,filename,ingest_date,checksum) = result[0]\n",
    "print filename"
   ]
  },
  {
   "cell_type": "code",
   "execution_count": null,
   "metadata": {
    "collapsed": false
   },
   "outputs": [],
   "source": [
    "%time !md5sum /home/stephan/Repos/Data/pr_day_MPI-ESM-LR_1pctCO2_r1i1p1_18600101-18691231.nc"
   ]
  },
  {
   "cell_type": "code",
   "execution_count": null,
   "metadata": {
    "collapsed": false
   },
   "outputs": [],
   "source": [
    "%time !sha256sum /home/stephan/Repos/Data/pr_day_MPI-ESM-LR_1pctCO2_r1i1p1_18600101-18691231.nc"
   ]
  },
  {
   "cell_type": "code",
   "execution_count": null,
   "metadata": {
    "collapsed": false
   },
   "outputs": [],
   "source": [
    "%time chksum = generate_file_chksum('/home/stephan/Repos/Data/','pr_day_MPI-ESM-LR_1pctCO2_r1i1p1_18600101-18691231.nc',\"sha256\")\n",
    "print chksum"
   ]
  },
  {
   "cell_type": "code",
   "execution_count": null,
   "metadata": {
    "collapsed": true
   },
   "outputs": [],
   "source": [
    "# docu: https://code.zmaw.de/projects/cdo/embedded/index.html\n",
    "from cdo import *\n",
    "cdo = Cdo()"
   ]
  },
  {
   "cell_type": "code",
   "execution_count": null,
   "metadata": {
    "collapsed": true
   },
   "outputs": [],
   "source": []
  },
  {
   "cell_type": "code",
   "execution_count": null,
   "metadata": {
    "collapsed": false
   },
   "outputs": [],
   "source": [
    "input1=\"/home/stephan/Data/pr_day_MPI-ESM-LR_1pctCO2_r1i1p1_18500101-18591231.nc\"\n",
    "input2=\"/home/stephan/Data/pr_day_MPI-ESM-LR_1pctCO2_r1i1p1_18600101-18691231.nc\"\n",
    "cdo.showname(input=input1)"
   ]
  },
  {
   "cell_type": "code",
   "execution_count": null,
   "metadata": {
    "collapsed": false
   },
   "outputs": [],
   "source": [
    "cdo.griddes(input=input1)"
   ]
  },
  {
   "cell_type": "code",
   "execution_count": null,
   "metadata": {
    "collapsed": false
   },
   "outputs": [],
   "source": [
    "cdo.pardes(input=input1)\n",
    "#cdo.griddes(input=input1)"
   ]
  },
  {
   "cell_type": "code",
   "execution_count": null,
   "metadata": {
    "collapsed": false
   },
   "outputs": [],
   "source": [
    "cdo.showstdname(input=input1)"
   ]
  },
  {
   "cell_type": "code",
   "execution_count": null,
   "metadata": {
    "collapsed": false
   },
   "outputs": [],
   "source": [
    "cdo.showname(input=input1)"
   ]
  },
  {
   "cell_type": "code",
   "execution_count": null,
   "metadata": {
    "collapsed": false
   },
   "outputs": [],
   "source": [
    "cdo.sinfo(input=input1)"
   ]
  },
  {
   "cell_type": "code",
   "execution_count": null,
   "metadata": {
    "collapsed": false
   },
   "outputs": [],
   "source": [
    "cdo.infon(input=input1)"
   ]
  },
  {
   "cell_type": "code",
   "execution_count": null,
   "metadata": {
    "collapsed": false
   },
   "outputs": [],
   "source": [
    "cdo.diff(input=(input1,input2))"
   ]
  },
  {
   "cell_type": "code",
   "execution_count": null,
   "metadata": {
    "collapsed": false
   },
   "outputs": [],
   "source": [
    "cdo.eca_cdd(input=input1,output=\"/home/stephan/Data/drydays.nc\")"
   ]
  },
  {
   "cell_type": "code",
   "execution_count": null,
   "metadata": {
    "collapsed": true
   },
   "outputs": [],
   "source": []
  },
  {
   "cell_type": "code",
   "execution_count": 11,
   "metadata": {
    "collapsed": false
   },
   "outputs": [],
   "source": [
    "import hashlib, os\n",
    "def generate_file_chksum(rootdir, filename, cksumtype, blocksize=2**20):\n",
    "    if cksumtype == \"md5\":\n",
    "        m = hashlib.md5()\n",
    "    elif cksumtype ==\"sha256\":\n",
    "        m = hashlib.sha256()\n",
    "    with open( os.path.join(rootdir, filename) , \"rb\" ) as f:\n",
    "        while True:\n",
    "            buf = f.read(blocksize)\n",
    "            if not buf:\n",
    "                break\n",
    "            m.update( buf )\n",
    "    return m.hexdigest()\n"
   ]
  },
  {
   "cell_type": "code",
   "execution_count": 5,
   "metadata": {
    "collapsed": false
   },
   "outputs": [
    {
     "name": "stdout",
     "output_type": "stream",
     "text": [
      "Done.\n",
      "Done.\n"
     ]
    },
    {
     "data": {
      "text/plain": [
       "[]"
      ]
     },
     "execution_count": 5,
     "metadata": {},
     "output_type": "execute_result"
    }
   ],
   "source": [
    "%%sql\n",
    "CREATE TABLE ingest_files(aggregation_name, filename, date, checksum);\n",
    "CREATE TABLE ingest_aggregations(origin,contact,location);"
   ]
  },
  {
   "cell_type": "code",
   "execution_count": 9,
   "metadata": {
    "collapsed": false
   },
   "outputs": [
    {
     "name": "stdout",
     "output_type": "stream",
     "text": [
      "1 rows affected.\n",
      "1 rows affected.\n"
     ]
    },
    {
     "data": {
      "text/plain": [
       "[]"
      ]
     },
     "execution_count": 9,
     "metadata": {},
     "output_type": "execute_result"
    }
   ],
   "source": [
    "%%sql\n",
    "INSERT INTO ingest_files VALUES('CMIP5/MPI-M/day/psl/','pr_day_MPI-ESM-LR_1pctCO2_r1i1p1_18600101-18691231.nc','2012-11-02',\"md5:a9dceb7c95dc715cec503ae58b184298\");\n",
    "INSERT INTO ingest_aggregations VALUES('CMIP5/MPI-M/day/psl/','ho@mpi-m.de','/gpfs750/transfer/CMIP5');"
   ]
  }
 ],
 "metadata": {
  "kernelspec": {
   "display_name": "Python 2",
   "language": "python",
   "name": "python2"
  },
  "language_info": {
   "codemirror_mode": {
    "name": "ipython",
    "version": 2
   },
   "file_extension": ".py",
   "mimetype": "text/x-python",
   "name": "python",
   "nbconvert_exporter": "python",
   "pygments_lexer": "ipython2",
   "version": "2.7.10"
  }
 },
 "nbformat": 4,
 "nbformat_minor": 0
}
