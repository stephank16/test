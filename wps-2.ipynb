{
 "cells": [
  {
   "cell_type": "markdown",
   "metadata": {},
   "source": [
    "## OWSlib based birdhouse WPS  interaction"
   ]
  },
  {
   "cell_type": "code",
   "execution_count": 1,
   "metadata": {
    "collapsed": true
   },
   "outputs": [],
   "source": [
    "# WPS endpoints:\n",
    "\n",
    "wps_emu = \"http://localhost:8094/wps\"\n",
    "wps_flyingpigeon = \"http://localhost:8092/wps\"\n",
    "wps_hummingbird = \"http://localhost:8092/wps\"\n",
    "wps_phoenix = \"http://localhost:8091/wps\""
   ]
  },
  {
   "cell_type": "code",
   "execution_count": 2,
   "metadata": {
    "collapsed": true
   },
   "outputs": [],
   "source": [
    "# wps services are registered in csw catalog:\n",
    "phoenix_csw = 'http://localhost:8082/csw'"
   ]
  },
  {
   "cell_type": "code",
   "execution_count": 2,
   "metadata": {
    "collapsed": true
   },
   "outputs": [],
   "source": [
    "from owslib.wps import WebProcessingService, monitorExecution\n",
    "wps = WebProcessingService(url=\"http://localhost:8094/wps\", verbose=False)"
   ]
  },
  {
   "cell_type": "code",
   "execution_count": 3,
   "metadata": {
    "collapsed": false
   },
   "outputs": [
    {
     "name": "stdout",
     "output_type": "stream",
     "text": [
      " owslib.ows.ServiceIdentification : {'accessconstraints': 'None', 'service': 'WPS', 'title': 'Emu', '_root': <Element {http://www.opengis.net/ows/1.1}ServiceIdentification at 0x7f32c4a5a290>, 'profiles': [], 'version': '1.0.0', 'fees': 'None', 'keywords': ['WPS', 'PyWPS', 'Birdhouse', 'emu'], 'type': 'WPS', 'abstract': 'WPS processes for testing and demos.'}\n",
      " owslib.ows.ServiceProvider : {'url': 'http://emu.readthedocs.org/en/latest/', '_root': <Element {http://www.opengis.net/ows/1.1}ServiceProvider at 0x7f32c4a5a368>, 'contact': <owslib.ows.ServiceContact object at 0x7f32bc24e810>, 'name': 'Birdhouse/Emu'}\n",
      " owslib.ows.OperationsMetadata : {'formatOptions': ['text/xml'], 'constraints': [], 'name': 'GetCapabilities', 'parameters': {}, 'methods': [{'url': 'http://localhost:8094/wps?', 'type': 'Get', 'constraints': []}, {'url': 'http://localhost:8094/wps', 'type': 'Post', 'constraints': []}]}\n",
      " owslib.ows.OperationsMetadata : {'formatOptions': ['text/xml'], 'constraints': [], 'name': 'DescribeProcess', 'parameters': {}, 'methods': [{'url': 'http://localhost:8094/wps?', 'type': 'Get', 'constraints': []}, {'url': 'http://localhost:8094/wps', 'type': 'Post', 'constraints': []}]}\n",
      " owslib.ows.OperationsMetadata : {'formatOptions': ['text/xml'], 'constraints': [], 'name': 'Execute', 'parameters': {}, 'methods': [{'url': 'http://localhost:8094/wps?', 'type': 'Get', 'constraints': []}, {'url': 'http://localhost:8094/wps', 'type': 'Post', 'constraints': []}]}\n",
      " owslib.wps.Process : {'identifier': 'helloworld', 'verbose': True, 'title': 'Hello World', '_root': <Element {http://www.opengis.net/wps/1.0.0}Process at 0x7f32c4a5acb0>, 'statusSupported': False, 'storeSupported': False, 'processVersion': '1.0', 'abstract': 'Welcome user and say hello ...'}\n",
      " owslib.wps.Process : {'identifier': 'helloworld', 'verbose': True, 'title': 'Hello World', '_root': <Element {http://www.opengis.net/wps/1.0.0}Process at 0x7f32c4a5acb0>, 'processOutputs': [], 'dataInputs': [], 'statusSupported': False, 'storeSupported': False, 'processVersion': '1.0', 'abstract': 'Welcome user and say hello ...'}\n",
      " owslib.wps.Process : {'identifier': 'ultimatequestionprocess', 'verbose': True, 'title': 'Answer to Life, the Universe and Everything', '_root': <Element {http://www.opengis.net/wps/1.0.0}Process at 0x7f32c4a5ac20>, 'statusSupported': False, 'storeSupported': False, 'processVersion': '2.0', 'abstract': 'Numerical solution that is the answer to Life, Universe and Everything. The process is an improvement to Deep Tought computer (therefore version 2.0) since it no longer takes 7.5 milion years, but only a few seconds to give a response, with an update of status every 10 seconds.'}\n",
      " owslib.wps.Process : {'identifier': 'ultimatequestionprocess', 'verbose': True, 'title': 'Answer to Life, the Universe and Everything', '_root': <Element {http://www.opengis.net/wps/1.0.0}Process at 0x7f32c4a5ac20>, 'processOutputs': [], 'dataInputs': [], 'statusSupported': False, 'storeSupported': False, 'processVersion': '2.0', 'abstract': 'Numerical solution that is the answer to Life, Universe and Everything. The process is an improvement to Deep Tought computer (therefore version 2.0) since it no longer takes 7.5 milion years, but only a few seconds to give a response, with an update of status every 10 seconds.'}\n",
      " owslib.wps.Process : {'identifier': 'dummyprocess', 'verbose': True, 'title': 'Dummy Process', '_root': <Element {http://www.opengis.net/wps/1.0.0}Process at 0x7f32c4a5a950>, 'statusSupported': False, 'storeSupported': False, 'processVersion': '0.1', 'abstract': 'The Dummy process is used for testing the WPS structure. The process will accept 2 input numbers and will return the XML result with an add one and subtract one operation'}\n",
      " owslib.wps.Process : {'identifier': 'dummyprocess', 'verbose': True, 'title': 'Dummy Process', '_root': <Element {http://www.opengis.net/wps/1.0.0}Process at 0x7f32c4a5a950>, 'processOutputs': [], 'dataInputs': [], 'statusSupported': False, 'storeSupported': False, 'processVersion': '0.1', 'abstract': 'The Dummy process is used for testing the WPS structure. The process will accept 2 input numbers and will return the XML result with an add one and subtract one operation'}\n",
      " owslib.wps.Process : {'identifier': 'wordcount', 'verbose': True, 'title': 'Word Counter', '_root': <Element {http://www.opengis.net/wps/1.0.0}Process at 0x7f32c4a5aab8>, 'statusSupported': False, 'storeSupported': False, 'processVersion': '1.0', 'abstract': 'Counts words in a given text ...'}\n",
      " owslib.wps.Process : {'identifier': 'wordcount', 'verbose': True, 'title': 'Word Counter', '_root': <Element {http://www.opengis.net/wps/1.0.0}Process at 0x7f32c4a5aab8>, 'processOutputs': [], 'dataInputs': [], 'statusSupported': False, 'storeSupported': False, 'processVersion': '1.0', 'abstract': 'Counts words in a given text ...'}\n",
      " owslib.wps.Process : {'identifier': 'inout', 'verbose': True, 'title': 'Testing all Data Types', '_root': <Element {http://www.opengis.net/wps/1.0.0}Process at 0x7f32c4a5acf8>, 'statusSupported': False, 'storeSupported': False, 'processVersion': '0.2', 'abstract': 'Just testing data types like date, datetime etc ...'}\n",
      " owslib.wps.Process : {'identifier': 'inout', 'verbose': True, 'title': 'Testing all Data Types', '_root': <Element {http://www.opengis.net/wps/1.0.0}Process at 0x7f32c4a5acf8>, 'processOutputs': [], 'dataInputs': [], 'statusSupported': False, 'storeSupported': False, 'processVersion': '0.2', 'abstract': 'Just testing data types like date, datetime etc ...'}\n",
      " owslib.wps.Process : {'identifier': 'multiplesources', 'verbose': True, 'title': 'Multiple Sources', '_root': <Element {http://www.opengis.net/wps/1.0.0}Process at 0x7f32c4a5ad40>, 'statusSupported': False, 'storeSupported': False, 'processVersion': '1.0', 'abstract': 'Process with multiple different sources ...'}\n",
      " owslib.wps.Process : {'identifier': 'multiplesources', 'verbose': True, 'title': 'Multiple Sources', '_root': <Element {http://www.opengis.net/wps/1.0.0}Process at 0x7f32c4a5ad40>, 'processOutputs': [], 'dataInputs': [], 'statusSupported': False, 'storeSupported': False, 'processVersion': '1.0', 'abstract': 'Process with multiple different sources ...'}\n",
      " owslib.wps.Process : {'identifier': 'chomsky', 'verbose': True, 'title': 'Chomsky text generator', '_root': <Element {http://www.opengis.net/wps/1.0.0}Process at 0x7f32c4a5ad88>, 'statusSupported': False, 'storeSupported': False, 'processVersion': '1.0', 'abstract': 'Generates a random chomsky text ...'}\n",
      " owslib.wps.Process : {'identifier': 'chomsky', 'verbose': True, 'title': 'Chomsky text generator', '_root': <Element {http://www.opengis.net/wps/1.0.0}Process at 0x7f32c4a5ad88>, 'processOutputs': [], 'dataInputs': [], 'statusSupported': False, 'storeSupported': False, 'processVersion': '1.0', 'abstract': 'Generates a random chomsky text ...'}\n",
      " owslib.wps.Process : {'identifier': 'zonal_mean', 'verbose': True, 'title': 'Zonal Mean', '_root': <Element {http://www.opengis.net/wps/1.0.0}Process at 0x7f32c4a5add0>, 'statusSupported': False, 'storeSupported': False, 'processVersion': '0.2', 'abstract': 'zonal mean in NetCDF File.'}\n",
      " owslib.wps.Process : {'identifier': 'zonal_mean', 'verbose': True, 'title': 'Zonal Mean', '_root': <Element {http://www.opengis.net/wps/1.0.0}Process at 0x7f32c4a5add0>, 'processOutputs': [], 'dataInputs': [], 'statusSupported': False, 'storeSupported': False, 'processVersion': '0.2', 'abstract': 'zonal mean in NetCDF File.'}\n",
      "<owslib.wps.WebProcessingService object at 0x7f32c4a4fcd0>\n"
     ]
    }
   ],
   "source": [
    "from owslib.wps import WebProcessingService\n",
    "wps = WebProcessingService(url=wps_emu,verbose=True)\n",
    "print wps"
   ]
  },
  {
   "cell_type": "code",
   "execution_count": 4,
   "metadata": {
    "collapsed": false
   },
   "outputs": [
    {
     "name": "stdout",
     "output_type": "stream",
     "text": [
      "Emu\n"
     ]
    }
   ],
   "source": [
    "print wps.identification.title"
   ]
  },
  {
   "cell_type": "code",
   "execution_count": 5,
   "metadata": {
    "collapsed": false
   },
   "outputs": [
    {
     "name": "stdout",
     "output_type": "stream",
     "text": [
      "GetCapabilities\n",
      "DescribeProcess\n",
      "Execute\n"
     ]
    }
   ],
   "source": [
    "for operation in wps.operations:\n",
    "    print operation.name"
   ]
  },
  {
   "cell_type": "code",
   "execution_count": 6,
   "metadata": {
    "collapsed": false
   },
   "outputs": [
    {
     "name": "stdout",
     "output_type": "stream",
     "text": [
      "helloworld Hello World\n",
      "ultimatequestionprocess Answer to Life, the Universe and Everything\n",
      "dummyprocess Dummy Process\n",
      "wordcount Word Counter\n",
      "inout Testing all Data Types\n",
      "multiplesources Multiple Sources\n",
      "chomsky Chomsky text generator\n",
      "zonal_mean Zonal Mean\n"
     ]
    }
   ],
   "source": [
    "for process in wps.processes:\n",
    "   print process.identifier, process.title"
   ]
  },
  {
   "cell_type": "code",
   "execution_count": 9,
   "metadata": {
    "collapsed": true
   },
   "outputs": [],
   "source": [
    "### how to invoke the processes:"
   ]
  },
  {
   "cell_type": "code",
   "execution_count": 7,
   "metadata": {
    "collapsed": false
   },
   "outputs": [
    {
     "name": "stdout",
     "output_type": "stream",
     "text": [
      " owslib.wps.Process : {'identifier': 'zonal_mean', 'verbose': True, 'title': 'Zonal Mean', '_root': <Element ProcessDescription at 0x7f32c4a5a758>, 'statusSupported': True, 'storeSupported': True, 'processVersion': None, 'abstract': 'zonal mean in NetCDF File.'}\n",
      "\tInput:  owslib.wps.Input : {'minOccurs': 1, 'title': 'NetCDF File', 'dataType': 'ComplexData', 'abstract': 'NetCDF File', 'supportedValues': [<owslib.wps.ComplexData object at 0x7f32bc24e350>], 'allowedValues': [], 'maxOccurs': 100, 'anyValue': False, 'identifier': 'netcdf_file', 'defaultValue': <owslib.wps.ComplexData object at 0x7f32bc24ee90>}\n",
      "\tOutput:  owslib.wps.Output : {'mimeType': None, 'reference': None, 'title': 'Output', 'dataType': 'ComplexData', 'abstract': 'Output', 'supportedValues': [<owslib.wps.ComplexData object at 0x7f32c4a58490>], 'filePath': None, 'allowedValues': [], 'anyValue': False, 'fileName': None, 'identifier': 'output', 'data': [], 'defaultValue': <owslib.wps.ComplexData object at 0x7f32c4a4f390>}\n",
      "zonal_mean\n",
      "Zonal Mean\n",
      "zonal mean in NetCDF File.\n"
     ]
    }
   ],
   "source": [
    "from owslib.wps import printInputOutput\n",
    "process = wps.describeprocess('zonal_mean')\n",
    "print process.identifier\n",
    "print process.title\n",
    "print process.abstract"
   ]
  },
  {
   "cell_type": "code",
   "execution_count": 8,
   "metadata": {
    "collapsed": false
   },
   "outputs": [
    {
     "name": "stdout",
     "output_type": "stream",
     "text": [
      " identifier=netcdf_file, title=NetCDF File, abstract=NetCDF File, data type=ComplexData\n",
      " Supported Value: mimeType=application/x-netcdf, encoding=None, schema=None\n",
      " Default Value: mimeType=application/x-netcdf, encoding=None, schema=None \n",
      " minOccurs=1, maxOccurs=100\n"
     ]
    }
   ],
   "source": [
    "for inputval in process.dataInputs:\n",
    "    printInputOutput(inputval)"
   ]
  },
  {
   "cell_type": "code",
   "execution_count": null,
   "metadata": {
    "collapsed": true
   },
   "outputs": [],
   "source": []
  }
 ],
 "metadata": {
  "kernelspec": {
   "display_name": "Python 2",
   "language": "python",
   "name": "python2"
  },
  "language_info": {
   "codemirror_mode": {
    "name": "ipython",
    "version": 2
   },
   "file_extension": ".py",
   "mimetype": "text/x-python",
   "name": "python",
   "nbconvert_exporter": "python",
   "pygments_lexer": "ipython2",
   "version": "2.7.10"
  }
 },
 "nbformat": 4,
 "nbformat_minor": 0
}
