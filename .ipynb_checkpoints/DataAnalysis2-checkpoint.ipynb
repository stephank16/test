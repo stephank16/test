{
 "cells": [
  {
   "cell_type": "code",
   "execution_count": 5,
   "metadata": {
    "collapsed": true
   },
   "outputs": [],
   "source": [
    "from netCDF4 import Dataset\n",
    "\n",
    "testfiledir = \"/home/stephan/Data/\""
   ]
  },
  {
   "cell_type": "code",
   "execution_count": 2,
   "metadata": {
    "collapsed": true
   },
   "outputs": [],
   "source": [
    "def ncdump(nc_fid, verb=True):\n",
    "    '''\n",
    "    ncdump outputs dimensions, variables and their attribute information.\n",
    "    The information is similar to that of NCAR's ncdump utility.\n",
    "    ncdump requires a valid instance of Dataset.\n",
    "\n",
    "    Parameters\n",
    "    ----------\n",
    "    nc_fid : netCDF4.Dataset\n",
    "        A netCDF4 dateset object\n",
    "    verb : Boolean\n",
    "        whether or not nc_attrs, nc_dims, and nc_vars are printed\n",
    "\n",
    "    Returns\n",
    "    -------\n",
    "    nc_attrs : list\n",
    "        A Python list of the NetCDF file global attributes\n",
    "    nc_dims : list\n",
    "        A Python list of the NetCDF file dimensions\n",
    "    nc_vars : list\n",
    "        A Python list of the NetCDF file variables\n",
    "    '''\n",
    "    def print_ncattr(key):\n",
    "        \"\"\"\n",
    "        Prints the NetCDF file attributes for a given key\n",
    "\n",
    "        Parameters\n",
    "        ----------\n",
    "        key : unicode\n",
    "            a valid netCDF4.Dataset.variables key\n",
    "        \"\"\"\n",
    "        try:\n",
    "            print \"\\t\\ttype:\", repr(nc_fid.variables[key].dtype)\n",
    "            for ncattr in nc_fid.variables[key].ncattrs():\n",
    "                print '\\t\\t%s:' % ncattr,\\\n",
    "                      repr(nc_fid.variables[key].getncattr(ncattr))\n",
    "        except KeyError:\n",
    "            print \"\\t\\tWARNING: %s does not contain variable attributes\" % key\n",
    "\n",
    "    # NetCDF global attributes\n",
    "    nc_attrs = nc_fid.ncattrs()\n",
    "    if verb:\n",
    "        print \"NetCDF Global Attributes:\"\n",
    "        for nc_attr in nc_attrs:\n",
    "            print '\\t%s:' % nc_attr, repr(nc_fid.getncattr(nc_attr))\n",
    "    nc_dims = [dim for dim in nc_fid.dimensions]  # list of nc dimensions\n",
    "    # Dimension shape information.\n",
    "    if verb:\n",
    "        print \"NetCDF dimension information:\"\n",
    "        for dim in nc_dims:\n",
    "            print \"\\tName:\", dim \n",
    "            print \"\\t\\tsize:\", len(nc_fid.dimensions[dim])\n",
    "            print_ncattr(dim)\n",
    "    # Variable information.\n",
    "    nc_vars = [var for var in nc_fid.variables]  # list of nc variables\n",
    "    if verb:\n",
    "        print \"NetCDF variable information:\"\n",
    "        for var in nc_vars:\n",
    "            if var not in nc_dims:\n",
    "                print '\\tName:', var\n",
    "                print \"\\t\\tdimensions:\", nc_fid.variables[var].dimensions\n",
    "                print \"\\t\\tsize:\", nc_fid.variables[var].size\n",
    "                print_ncattr(var)\n",
    "    return nc_attrs, nc_dims, nc_vars"
   ]
  },
  {
   "cell_type": "code",
   "execution_count": 18,
   "metadata": {
    "collapsed": false
   },
   "outputs": [],
   "source": [
    "esgf_data1 = Dataset(testfiledir+\"pr_day_MPI-ESM-LR_1pctCO2_r1i1p1_18500101-18591231.nc\",'r+')\n",
    "esgf_data2 = Dataset(testfiledir+\"pr_day_MPI-ESM-LR_1pctCO2_r1i1p1_18600101-18691231.nc\",'r+')"
   ]
  },
  {
   "cell_type": "code",
   "execution_count": 7,
   "metadata": {
    "collapsed": false
   },
   "outputs": [
    {
     "name": "stdout",
     "output_type": "stream",
     "text": [
      "OrderedDict([(u'time', <type 'netCDF4._netCDF4.Variable'>\n",
      "float64 time(time)\n",
      "    bounds: time_bnds\n",
      "    units: days since 1850-1-1 00:00:00\n",
      "    calendar: proleptic_gregorian\n",
      "    axis: T\n",
      "    long_name: time\n",
      "    standard_name: time\n",
      "unlimited dimensions: time\n",
      "current shape = (3652,)\n",
      "filling off\n",
      "), (u'time_bnds', <type 'netCDF4._netCDF4.Variable'>\n",
      "float64 time_bnds(time, bnds)\n",
      "unlimited dimensions: time\n",
      "current shape = (3652, 2)\n",
      "filling off\n",
      "), (u'lat', <type 'netCDF4._netCDF4.Variable'>\n",
      "float64 lat(lat)\n",
      "    bounds: lat_bnds\n",
      "    units: degrees_north\n",
      "    axis: Y\n",
      "    long_name: latitude\n",
      "    standard_name: latitude\n",
      "unlimited dimensions: \n",
      "current shape = (96,)\n",
      "filling off\n",
      "), (u'lat_bnds', <type 'netCDF4._netCDF4.Variable'>\n",
      "float64 lat_bnds(lat, bnds)\n",
      "unlimited dimensions: \n",
      "current shape = (96, 2)\n",
      "filling off\n",
      "), (u'lon', <type 'netCDF4._netCDF4.Variable'>\n",
      "float64 lon(lon)\n",
      "    bounds: lon_bnds\n",
      "    units: degrees_east\n",
      "    axis: X\n",
      "    long_name: longitude\n",
      "    standard_name: longitude\n",
      "unlimited dimensions: \n",
      "current shape = (192,)\n",
      "filling off\n",
      "), (u'lon_bnds', <type 'netCDF4._netCDF4.Variable'>\n",
      "float64 lon_bnds(lon, bnds)\n",
      "unlimited dimensions: \n",
      "current shape = (192, 2)\n",
      "filling off\n",
      "), (u'pr', <type 'netCDF4._netCDF4.Variable'>\n",
      "float32 pr(time, lat, lon)\n",
      "    standard_name: precipitation_flux\n",
      "    long_name: Precipitation\n",
      "    comment: at surface; includes both liquid and solid phases from all types of clouds (both large-scale and convective)\n",
      "    units: kg m-2 s-1\n",
      "    cell_methods: time: mean\n",
      "    cell_measures: area: areacella\n",
      "    history: 2011-05-31T14:07:36Z altered by CMOR: replaced missing value flag (2e+20) with standard missing value (1e+20).\n",
      "    missing_value: 1e+20\n",
      "    _FillValue: 1e+20\n",
      "    associated_files: baseURL: http://cmip-pcmdi.llnl.gov/CMIP5/dataLocation gridspecFile: gridspec_atmos_fx_MPI-ESM-LR_1pctCO2_r0i0p0.nc areacella: areacella_fx_MPI-ESM-LR_1pctCO2_r0i0p0.nc\n",
      "unlimited dimensions: time\n",
      "current shape = (3652, 96, 192)\n",
      "filling off\n",
      ")])\n",
      "OrderedDict([(u'time', <type 'netCDF4._netCDF4.Dimension'> (unlimited): name = 'time', size = 3652\n",
      "), (u'lat', <type 'netCDF4._netCDF4.Dimension'>: name = 'lat', size = 96\n",
      "), (u'lon', <type 'netCDF4._netCDF4.Dimension'>: name = 'lon', size = 192\n",
      "), (u'bnds', <type 'netCDF4._netCDF4.Dimension'>: name = 'bnds', size = 2\n",
      ")])\n",
      "OrderedDict()\n"
     ]
    }
   ],
   "source": [
    "print esgf_data1.variables\n",
    "print esgf_data1.dimensions\n",
    "print esgf_data1.groups"
   ]
  },
  {
   "cell_type": "code",
   "execution_count": 8,
   "metadata": {
    "collapsed": false
   },
   "outputs": [
    {
     "name": "stdout",
     "output_type": "stream",
     "text": [
      "NetCDF Global Attributes:\n",
      "\tinstitution: u'Max Planck Institute for Meteorology'\n",
      "\tinstitute_id: u'MPI-M'\n",
      "\texperiment_id: u'1pctCO2'\n",
      "\tsource: u'MPI-ESM-LR 2011; URL: http://svn.zmaw.de/svn/cosmos/branches/releases/mpi-esm-cmip5/src/mod; atmosphere: ECHAM6 (REV: 4571), T63L47; land: JSBACH (REV: 4571); ocean: MPIOM (REV: 4571), GR15L40; sea ice: 4571; marine bgc: HAMOCC (REV: 4571);'\n",
      "\tmodel_id: u'MPI-ESM-LR'\n",
      "\tforcing: u'N/A'\n",
      "\tparent_experiment_id: u'piControl'\n",
      "\tparent_experiment_rip: u'r1i1p1'\n",
      "\tbranch_time: 10957.0\n",
      "\tcontact: u'cmip5-mpi-esm@dkrz.de'\n",
      "\thistory: u'Model raw output postprocessing with modelling environment (IMDI) at DKRZ: URL: http://svn-mad.zmaw.de/svn/mad/Model/IMDI/trunk, REV: 3208 2011-05-31T14:50:49Z CMOR rewrote data to comply with CF standards and CMIP5 requirements.'\n",
      "\treferences: u'ECHAM6: n/a; JSBACH: Raddatz et al., 2007. Will the tropical land biosphere dominate the climate-carbon cycle feedback during the twenty first century? Climate Dynamics, 29, 565-574, doi 10.1007/s00382-007-0247-8;  MPIOM: Marsland et al., 2003. The Max-Planck-Institute global ocean/sea ice model with orthogonal curvilinear coordinates. Ocean Modelling, 5, 91-127;  HAMOCC: http://www.mpimet.mpg.de/fileadmin/models/MPIOM/HAMOCC5.1_TECHNICAL_REPORT.pdf;'\n",
      "\tinitialization_method: 1\n",
      "\tphysics_version: 1\n",
      "\ttracking_id: u'8e6a86e8-9cba-45cc-a794-df87f657d2c1'\n",
      "\tproduct: u'output'\n",
      "\texperiment: u'1 percent per year CO2'\n",
      "\tfrequency: u'day'\n",
      "\tcreation_date: u'2011-05-31T14:50:54Z'\n",
      "\tConventions: u'CF-1.4'\n",
      "\tproject_id: u'CMIP5'\n",
      "\ttable_id: u'Table day (27 April 2011) 86d1558d99b6ed1e7a886ab3fd717b58'\n",
      "\ttitle: u'MPI-ESM-LR model output prepared for CMIP5 1 percent per year CO2'\n",
      "\tparent_experiment: u'pre-industrial control'\n",
      "\tmodeling_realm: u'atmos'\n",
      "\trealization: 1\n",
      "\tcmor_version: u'2.5.9'\n",
      "NetCDF dimension information:\n",
      "\tName: time\n",
      "\t\tsize: 3653\n",
      "\t\ttype: dtype('float64')\n",
      "\t\tbounds: u'time_bnds'\n",
      "\t\tunits: u'days since 1850-1-1 00:00:00'\n",
      "\t\tcalendar: u'proleptic_gregorian'\n",
      "\t\taxis: u'T'\n",
      "\t\tlong_name: u'time'\n",
      "\t\tstandard_name: u'time'\n",
      "\tName: lat\n",
      "\t\tsize: 96\n",
      "\t\ttype: dtype('float64')\n",
      "\t\tbounds: u'lat_bnds'\n",
      "\t\tunits: u'degrees_north'\n",
      "\t\taxis: u'Y'\n",
      "\t\tlong_name: u'latitude'\n",
      "\t\tstandard_name: u'latitude'\n",
      "\tName: lon\n",
      "\t\tsize: 192\n",
      "\t\ttype: dtype('float64')\n",
      "\t\tbounds: u'lon_bnds'\n",
      "\t\tunits: u'degrees_east'\n",
      "\t\taxis: u'X'\n",
      "\t\tlong_name: u'longitude'\n",
      "\t\tstandard_name: u'longitude'\n",
      "\tName: bnds\n",
      "\t\tsize: 2\n",
      "\t\ttype: \t\tWARNING: bnds does not contain variable attributes\n",
      "NetCDF variable information:\n",
      "\tName: time_bnds\n",
      "\t\tdimensions: (u'time', u'bnds')\n",
      "\t\tsize: 7306\n",
      "\t\ttype: dtype('float64')\n",
      "\tName: lat_bnds\n",
      "\t\tdimensions: (u'lat', u'bnds')\n",
      "\t\tsize: 192\n",
      "\t\ttype: dtype('float64')\n",
      "\tName: lon_bnds\n",
      "\t\tdimensions: (u'lon', u'bnds')\n",
      "\t\tsize: 384\n",
      "\t\ttype: dtype('float64')\n",
      "\tName: pr\n",
      "\t\tdimensions: (u'time', u'lat', u'lon')\n",
      "\t\tsize: 67332096\n",
      "\t\ttype: dtype('float32')\n",
      "\t\tstandard_name: u'precipitation_flux'\n",
      "\t\tlong_name: u'Precipitation'\n",
      "\t\tcomment: u'at surface; includes both liquid and solid phases from all types of clouds (both large-scale and convective)'\n",
      "\t\tunits: u'kg m-2 s-1'\n",
      "\t\tcell_methods: u'time: mean'\n",
      "\t\tcell_measures: u'area: areacella'\n",
      "\t\thistory: u'2011-05-31T14:50:54Z altered by CMOR: replaced missing value flag (2e+20) with standard missing value (1e+20).'\n",
      "\t\tmissing_value: 1e+20\n",
      "\t\t_FillValue: 1e+20\n",
      "\t\tassociated_files: u'baseURL: http://cmip-pcmdi.llnl.gov/CMIP5/dataLocation gridspecFile: gridspec_atmos_fx_MPI-ESM-LR_1pctCO2_r0i0p0.nc areacella: areacella_fx_MPI-ESM-LR_1pctCO2_r0i0p0.nc'\n"
     ]
    },
    {
     "data": {
      "text/plain": [
       "([u'institution',\n",
       "  u'institute_id',\n",
       "  u'experiment_id',\n",
       "  u'source',\n",
       "  u'model_id',\n",
       "  u'forcing',\n",
       "  u'parent_experiment_id',\n",
       "  u'parent_experiment_rip',\n",
       "  u'branch_time',\n",
       "  u'contact',\n",
       "  u'history',\n",
       "  u'references',\n",
       "  u'initialization_method',\n",
       "  u'physics_version',\n",
       "  u'tracking_id',\n",
       "  u'product',\n",
       "  u'experiment',\n",
       "  u'frequency',\n",
       "  u'creation_date',\n",
       "  u'Conventions',\n",
       "  u'project_id',\n",
       "  u'table_id',\n",
       "  u'title',\n",
       "  u'parent_experiment',\n",
       "  u'modeling_realm',\n",
       "  u'realization',\n",
       "  u'cmor_version'],\n",
       " [u'time', u'lat', u'lon', u'bnds'],\n",
       " [u'time', u'time_bnds', u'lat', u'lat_bnds', u'lon', u'lon_bnds', u'pr'])"
      ]
     },
     "execution_count": 8,
     "metadata": {},
     "output_type": "execute_result"
    }
   ],
   "source": [
    "ncdump(esgf_data2)"
   ]
  },
  {
   "cell_type": "code",
   "execution_count": 19,
   "metadata": {
    "collapsed": false
   },
   "outputs": [
    {
     "name": "stdout",
     "output_type": "stream",
     "text": [
      "123-und-schon-geändert\n",
      "11.99x/dasistnepid\n"
     ]
    }
   ],
   "source": [
    "print esgf_data1.tracking_id\n",
    "print esgf_data1.PID"
   ]
  },
  {
   "cell_type": "code",
   "execution_count": 11,
   "metadata": {
    "collapsed": false
   },
   "outputs": [],
   "source": [
    "esgf_data1.tracking_id = \"123-und-schon-geändert\""
   ]
  },
  {
   "cell_type": "code",
   "execution_count": 12,
   "metadata": {
    "collapsed": true
   },
   "outputs": [],
   "source": [
    "esgf_data1.close()"
   ]
  },
  {
   "cell_type": "code",
   "execution_count": 15,
   "metadata": {
    "collapsed": true
   },
   "outputs": [],
   "source": [
    "pid = esgf_data1.PID = '11.99x/dasistnepid'"
   ]
  },
  {
   "cell_type": "code",
   "execution_count": 17,
   "metadata": {
    "collapsed": false
   },
   "outputs": [],
   "source": [
    "esgf_data1.close()\n"
   ]
  },
  {
   "cell_type": "code",
   "execution_count": null,
   "metadata": {
    "collapsed": true
   },
   "outputs": [],
   "source": []
  }
 ],
 "metadata": {
  "kernelspec": {
   "display_name": "Python 2",
   "language": "python",
   "name": "python2"
  },
  "language_info": {
   "codemirror_mode": {
    "name": "ipython",
    "version": 2
   },
   "file_extension": ".py",
   "mimetype": "text/x-python",
   "name": "python",
   "nbconvert_exporter": "python",
   "pygments_lexer": "ipython2",
   "version": "2.7.10"
  }
 },
 "nbformat": 4,
 "nbformat_minor": 0
}
