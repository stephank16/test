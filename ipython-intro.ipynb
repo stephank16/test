{
 "cells": [
  {
   "cell_type": "markdown",
   "metadata": {
    "slideshow": {
     "slide_type": "slide"
    }
   },
   "source": [
    "# Python --> IPython --> (IPython) Notebook \n",
    "### What, Why ?\n",
    "- Python = language interpreter \n",
    "- IPython = enhanced interaction, shortcuts, ..\n",
    "- IPython notebook = html frontend + protocol \n",
    "- Jupyter notebook = language independent interface\n",
    " - multiple backends: python, julia, R, Haskell, Ruby, bash, ...."
   ]
  },
  {
   "cell_type": "code",
   "execution_count": 20,
   "metadata": {
    "collapsed": false,
    "slideshow": {
     "slide_type": "slide"
    }
   },
   "outputs": [
    {
     "data": {
      "text/html": [
       "<iframe src=http://ipython.org width=1000 height=400> </iframe>"
      ],
      "text/plain": [
       "<IPython.core.display.HTML object>"
      ]
     },
     "execution_count": 20,
     "metadata": {},
     "output_type": "execute_result"
    }
   ],
   "source": [
    "## Let's have a short look at the IPython web site:\n",
    "from IPython.display import display, Image, HTML\n",
    "HTML('<iframe src=http://ipython.org width=1000 height=400> </iframe>')"
   ]
  },
  {
   "cell_type": "markdown",
   "metadata": {
    "slideshow": {
     "slide_type": "slide"
    }
   },
   "source": [
    "### computing backend (e.g. IPython) + Notebook \n",
    "#### --> Importance for us  (and scientists) ?\n",
    "\n",
    "Jim Gray et al. \"Scientific Data Management in the coming Decade\" (2005)\n",
    "\n",
    "\"The goal is a smart notebook that empowers scientists to explore the world’s data. **Science data centers with computational resources to explore huge data archives will be central to enabling such notebooks.** Because data is so large, and IO bandwidth is not keeping pace, moving code to data will be essential to performance. Consequently, **science centers will remain the core vehicle and federations will likely be secondary.** Science centers will provide both the archives and the institutional infrastructure to develop these peta-scale archives and the algorithms and tools to analyze them.\"\n",
    "    "
   ]
  },
  {
   "cell_type": "markdown",
   "metadata": {
    "slideshow": {
     "slide_type": "slide"
    }
   },
   "source": [
    "## \"Smart notebooks\" + scientific toolboxes + (meta-)data --> open science\n",
    "\n",
    "![test](files/data-center1.png)"
   ]
  },
  {
   "cell_type": "markdown",
   "metadata": {
    "slideshow": {
     "slide_type": "slide"
    }
   },
   "source": [
    "## The Notebook Interface"
   ]
  },
  {
   "cell_type": "code",
   "execution_count": 22,
   "metadata": {
    "collapsed": false,
    "slideshow": {
     "slide_type": "-"
    }
   },
   "outputs": [
    {
     "data": {
      "text/html": [
       "<iframe src=http://nbviewer.ipython.org/github/ipython/ipython-in-depth/blob/master/examples/Notebook/What%20is%20the%20IPython%20Notebook.ipynb width=1000 height=600></iframe>"
      ],
      "text/plain": [
       "<IPython.core.display.HTML object>"
      ]
     },
     "execution_count": 22,
     "metadata": {},
     "output_type": "execute_result"
    }
   ],
   "source": [
    "HTML('<iframe src=http://nbviewer.ipython.org/github/ipython/ipython-in-depth/blob/master/examples/Notebook/What%20is%20the%20IPython%20Notebook.ipynb width=1000 height=600></iframe>')"
   ]
  },
  {
   "cell_type": "markdown",
   "metadata": {
    "slideshow": {
     "slide_type": "slide"
    }
   },
   "source": [
    "#### Remark: This presentation is an interactive notebook document !!Generation of presentations from notebooks:\n",
    "\n",
    "this notebook:\n",
    "- !jupyter nbconvert --to slides/html/pdf (via latex) .. "
   ]
  },
  {
   "cell_type": "markdown",
   "metadata": {
    "collapsed": true,
    "slideshow": {
     "slide_type": "slide"
    }
   },
   "source": [
    "## Researchers View: \"Toolbox\""
   ]
  },
  {
   "cell_type": "code",
   "execution_count": null,
   "metadata": {
    "collapsed": false,
    "slideshow": {
     "slide_type": "fragment"
    }
   },
   "outputs": [],
   "source": [
    "HTML(\"\"\"<iframe \n",
    "     src=http://www.nature.com/news/my-digital-toolbox-climate-scientist-damien-irving-on-python-libraries-1.16805 \n",
    "     width=1000 height=400>\n",
    "     </iframe>\"\"\")"
   ]
  },
  {
   "cell_type": "code",
   "execution_count": null,
   "metadata": {
    "collapsed": true
   },
   "outputs": [],
   "source": [
    "From his Blog post (https://drclimate.wordpress.com/2014/10/30/software-installation-explained/):\n",
    "\"\"    \n",
    "In Conclusion…\n",
    "\n",
    "If you’re struggling when it comes to software installation, rest assured you definitely aren’t alone. \n",
    "The software installation problem is a source of frustration for all of us and is a key roadblock \n",
    "on the path to open science, so it’s great that solutions like Binstar are starting to pop up. \n",
    "In the meantime (i.e. while you’re waiting for a silver bullet solution), \n",
    "probably the best thing you can do is have a serious think about your operating system\n",
    "\"\"\n",
    "\n",
    "--> siehe die TGIF Vorträge von Carsten zu conda und binstar .."
   ]
  },
  {
   "cell_type": "markdown",
   "metadata": {},
   "source": [
    "# Generating Publications (or addons containing reproducable code) from Notebooks:\n",
    "Nature has a news item about IPython notebook\n",
    "http://www.nature.com/news/interactive-notebooks-sharing-the-code-1.16261\n",
    "\n",
    "accompanied by live sample notebook:\n",
    "\n",
    "http://www.nature.com/news/ipython-interactive-demo-7.21492\n",
    "\n",
    "reproducable academic publications:\n",
    "https://github.com/ipython/ipython/wiki/A-gallery-of-interesting-IPython-Notebooks#reproducible-academic-publications"
   ]
  },
  {
   "cell_type": "code",
   "execution_count": null,
   "metadata": {
    "collapsed": false
   },
   "outputs": [],
   "source": [
    "HTML(\"\"\"<iframe\n",
    "          src=http://www.nature.com/news/interactive-notebooks-sharing-the-code-1.16261\n",
    "          width=1000 height=400>\n",
    "     </iframe>\"\"\")"
   ]
  },
  {
   "cell_type": "markdown",
   "metadata": {
    "collapsed": true,
    "slideshow": {
     "slide_type": "slide"
    }
   },
   "source": [
    "### Rich syntactic cells: \n",
    "This is *rich* **text** with [links](http://ipython.org),\n",
    "equations:\n",
    "\n",
    "$$\\hat{f}(\\xi) = \\int_{-\\infty}^{+\\infty} f(x)\\,\n",
    "                 \\mathrm{e}^{-i \\xi x}$$\n",
    "\n",
    "code with syntax highlighting: \n",
    "```python\n",
    "print(\"Hello world!\")\n",
    "``` \n",
    "and images: \n",
    "![This is an image](http://ipython.org/_static/IPy_header.png)"
   ]
  },
  {
   "cell_type": "code",
   "execution_count": null,
   "metadata": {
    "collapsed": true
   },
   "outputs": [],
   "source": []
  },
  {
   "cell_type": "code",
   "execution_count": null,
   "metadata": {
    "collapsed": false
   },
   "outputs": [],
   "source": [
    "%lsmagic\n"
   ]
  },
  {
   "cell_type": "code",
   "execution_count": null,
   "metadata": {
    "collapsed": false
   },
   "outputs": [],
   "source": [
    "from IPython.display import HTML, SVG\n",
    "HTML('''\n",
    "         <table style=\"border: 2px solid black;\">\n",
    "         ''' + \n",
    "         ''.join(['<tr>' + \n",
    "                  ''.join(['<td>{row},{col}</td>'.format(\n",
    "                                 row=row, col=col\n",
    "                                 ) for col in range(5)]) +\n",
    "                  '</tr>' for row in range(5)]) +\n",
    "         '''\n",
    "         </table>\n",
    "         ''')"
   ]
  },
  {
   "cell_type": "markdown",
   "metadata": {
    "slideshow": {
     "slide_type": "slide"
    }
   },
   "source": [
    "## Interactive widgets: Example"
   ]
  },
  {
   "cell_type": "code",
   "execution_count": null,
   "metadata": {
    "collapsed": false,
    "slideshow": {
     "slide_type": "fragment"
    }
   },
   "outputs": [],
   "source": [
    "from IPython.html.widgets import interact\n",
    "import matplotlib.pyplot as plt\n",
    "import networkx as nx\n",
    "%matplotlib inline"
   ]
  },
  {
   "cell_type": "code",
   "execution_count": null,
   "metadata": {
    "collapsed": true,
    "slideshow": {
     "slide_type": "slide"
    }
   },
   "outputs": [],
   "source": [
    "# wrap a few graph generation functions so they have the same signature\n",
    "\n",
    "def random_lobster(n, m, k, p):\n",
    "    return nx.random_lobster(n, p, p / m)\n",
    "\n",
    "def powerlaw_cluster(n, m, k, p):\n",
    "    return nx.powerlaw_cluster_graph(n, m, p)\n",
    "\n",
    "def erdos_renyi(n, m, k, p):\n",
    "    return nx.erdos_renyi_graph(n, p)\n",
    "\n",
    "def newman_watts_strogatz(n, m, k, p):\n",
    "    return nx.newman_watts_strogatz_graph(n, k, p)\n",
    "\n",
    "def plot_random_graph(n, m, k, p, generator):\n",
    "    g = generator(n, m, k, p)\n",
    "    nx.draw(g)\n",
    "    plt.show()"
   ]
  },
  {
   "cell_type": "code",
   "execution_count": null,
   "metadata": {
    "collapsed": false,
    "slideshow": {
     "slide_type": "slide"
    }
   },
   "outputs": [],
   "source": [
    "interact(plot_random_graph, n=(2,30), m=(1,10), k=(1,10), p=(0.0, 1.0, 0.001),\n",
    "        generator={'lobster': random_lobster,\n",
    "                   'power law': powerlaw_cluster,\n",
    "                   'Newman-Watts-Strogatz': newman_watts_strogatz,\n",
    "                   u'Erdős-Rényi': erdos_renyi,\n",
    "                   });"
   ]
  },
  {
   "cell_type": "code",
   "execution_count": null,
   "metadata": {
    "collapsed": true
   },
   "outputs": [],
   "source": []
  }
 ],
 "metadata": {
  "celltoolbar": "Slideshow",
  "kernelspec": {
   "display_name": "Python 2",
   "language": "python",
   "name": "python2"
  },
  "language_info": {
   "codemirror_mode": {
    "name": "ipython",
    "version": 2
   },
   "file_extension": ".py",
   "mimetype": "text/x-python",
   "name": "python",
   "nbconvert_exporter": "python",
   "pygments_lexer": "ipython2",
   "version": "2.7.10"
  }
 },
 "nbformat": 4,
 "nbformat_minor": 0
}
