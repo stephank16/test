{
 "cells": [
  {
   "cell_type": "markdown",
   "metadata": {
    "slideshow": {
     "slide_type": "slide"
    }
   },
   "source": [
    "# Python --> IPython --> IPython Notebook (jupyter)\n",
    "\n",
    "## What, Why ?\n",
    "\n",
    "- Python = language interpreter --> programs, interactive sessions  \n",
    "- IPython = interactive python --> enhanced interaction\n",
    " - separately installable extension for python\n",
    " - code completion --> development, debugging\n",
    " - shortcuts for os commands and (e.g. bash) scripting --> use as \"extended\" bash for system administrators\n",
    "- IPython notebook\n",
    " - currently part of IPython project - from next version on: separate jupyter project (\"not only for python\")"
   ]
  },
  {
   "cell_type": "markdown",
   "metadata": {
    "slideshow": {
     "slide_type": "subslide"
    }
   },
   "source": [
    "## The IPython notebook (jupyter)\n",
    "\n",
    "- html frontend + protocol to interact with ipython server process(es)\n",
    "- recently language independent parts (frontend + protocol) maintained independently: jupyter project\n",
    "  - different backend support: bash, python, julia, R, haskell .. "
   ]
  },
  {
   "cell_type": "code",
   "execution_count": 1,
   "metadata": {
    "collapsed": false,
    "slideshow": {
     "slide_type": "subslide"
    }
   },
   "outputs": [
    {
     "data": {
      "text/html": [
       "<iframe src=http://ipython.org width=1000 height=400> </iframe>"
      ],
      "text/plain": [
       "<IPython.core.display.HTML object>"
      ]
     },
     "execution_count": 1,
     "metadata": {},
     "output_type": "execute_result"
    }
   ],
   "source": [
    "# Show ipython page \n",
    "from IPython.display import display, Image, HTML\n",
    "HTML('<iframe src=http://ipython.org width=1000 height=400> </iframe>')"
   ]
  },
  {
   "cell_type": "markdown",
   "metadata": {
    "slideshow": {
     "slide_type": "subslide"
    }
   },
   "source": [
    "### IPython + Notebook interface --> \"interactive computing environment\"\n",
    "\n",
    "- \"reproducable\" scientific papers:  code + comments + ..\n",
    "\n",
    "## Importance for us ?\n",
    "\n",
    "Jim Gray et al. \"Scientific Data Management in the coming Decade\" (2005)\n",
    "\n",
    "\"The goal is a smart notebook that empowers scientists to\n",
    "explore the world’s data. Science data centers with\n",
    "computational resources to explore huge data archives\n",
    "will be central to enabling such notebooks. Because data\n",
    "is so large, and IO bandwidth is not keeping pace, moving\n",
    "code to data will be essential to performance.\n",
    "Consequently, science centers will remain the core\n",
    "vehicle and federations will likely be secondary. Science\n",
    "centers will provide both the archives and the institutional\n",
    "infrastructure to develop these peta-scale archives and the\n",
    "algorithms and tools to analyze them.\"\n",
    "    "
   ]
  },
  {
   "cell_type": "code",
   "execution_count": 2,
   "metadata": {
    "collapsed": false,
    "slideshow": {
     "slide_type": "fragment"
    }
   },
   "outputs": [
    {
     "data": {
      "text/html": [
       "<iframe src=http://nbviewer.ipython.org/github/ipython/ipython-in-depth/blob/master/examples/Notebook/What%20is%20the%20IPython%20Notebook.ipynb width=1000 height=400></iframe>"
      ],
      "text/plain": [
       "<IPython.core.display.HTML object>"
      ]
     },
     "execution_count": 2,
     "metadata": {},
     "output_type": "execute_result"
    }
   ],
   "source": [
    "HTML('<iframe src=http://nbviewer.ipython.org/github/ipython/ipython-in-depth/blob/master/examples/Notebook/What%20is%20the%20IPython%20Notebook.ipynb width=1000 height=400></iframe>')"
   ]
  },
  {
   "cell_type": "markdown",
   "metadata": {
    "slideshow": {
     "slide_type": "fragment"
    }
   },
   "source": [
    "#### Remark: Generation of presentations from notebooks:\n",
    "\n",
    "(Thats how this presentation was generated ....)"
   ]
  },
  {
   "cell_type": "code",
   "execution_count": null,
   "metadata": {
    "collapsed": false,
    "slideshow": {
     "slide_type": "fragment"
    }
   },
   "outputs": [
    {
     "name": "stdout",
     "output_type": "stream",
     "text": [
      "[NbConvertApp] Converting notebook ipython-intro.ipynb to slides\n",
      "[NbConvertApp] Writing 204261 bytes to ipython-intro.slides.html\n",
      "[NbConvertApp] Redirecting reveal.js requests to https://cdn.jsdelivr.net/reveal.js/2.6.2\n",
      "Serving your slides at http://127.0.0.1:8000/ipython-intro.slides.html\n",
      "Use Control-C to stop this server\n",
      "\n",
      "(process:9883): GLib-CRITICAL **: g_slice_set_config: assertion 'sys_page_size == 0' failed\n",
      "WARNING:tornado.access:404 GET /custom.css (127.0.0.1) 7.82ms\n",
      "WARNING:tornado.access:404 GET /custom.css (127.0.0.1) 1.10ms\n",
      "WARNING:tornado.access:404 GET /favicon.ico (127.0.0.1) 0.93ms\n"
     ]
    }
   ],
   "source": [
    "!ipython nbconvert --to slides ipython-intro.ipynb --post serve"
   ]
  },
  {
   "cell_type": "code",
   "execution_count": null,
   "metadata": {
    "collapsed": true
   },
   "outputs": [],
   "source": []
  }
 ],
 "metadata": {
  "celltoolbar": "Slideshow",
  "kernelspec": {
   "display_name": "Python 2",
   "language": "python",
   "name": "python2"
  },
  "language_info": {
   "codemirror_mode": {
    "name": "ipython",
    "version": 2
   },
   "file_extension": ".py",
   "mimetype": "text/x-python",
   "name": "python",
   "nbconvert_exporter": "python",
   "pygments_lexer": "ipython2",
   "version": "2.7.10"
  }
 },
 "nbformat": 4,
 "nbformat_minor": 0
}
