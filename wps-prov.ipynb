{
 "cells": [
  {
   "cell_type": "markdown",
   "metadata": {
    "slideshow": {
     "slide_type": "slide"
    }
   },
   "source": [
    "# Towards a standard format for provenance information for WPS tools and services\n",
    "\n",
    "## Version 0.1 (Birdhouse WPS Joint Workshop (IS-ENES, Convergence, CLIPC, EUCLEIA)I coding sprint version - 15.Okt.2015)"
   ]
  },
  {
   "cell_type": "markdown",
   "metadata": {
    "slideshow": {
     "slide_type": "fragment"
    }
   },
   "source": [
    "Status: \n",
    "* Most evaluation tool effors (like ESMValTool and Climaf) provide information about the provenance of generated results\n",
    "* The format and content is different\n",
    "* In ESMValTool the provenance log generating parts are spread all over the source code --> no simple prov API integration for the near future --> translation of prof log end results to standard W3C prov format\n",
    "\n",
    "    > *Info from Axel*:\n",
    "    > point where file informations is collected:\n",
    "    * reformat_scripts/defaults/reformat_default_main.ncl\n",
    "    * reformat_scripts/defaults/reformat_default_func.ncl (read_var , apply_fixes)\n",
    "    * reformat_scripts/constants.ncl (write_output)\n",
    "    * interface_scripts/messaging.ncl (main, write_header, write_flist, write_references)\n",
    "    * interface_scripts/data_handling.ncl (main, add_data_var, read_data)\n",
    "    * other info is written in indiv. diagnosis (ncl) scripts and collected by the wrappers\n",
    "\n",
    "Steps forward: \n",
    "* Generate W3C Prov standard conformant provenance descriptions - these can then be stored / exchanged / queried as well as combined using standard and generic tools\n",
    "* Generate translation tools for ESMValTool provenance log output to W3C Prov (seriazable to json and xml)\n",
    "* Provide a simple python API to generate provenance files (based on W3C Prov)"
   ]
  },
  {
   "cell_type": "markdown",
   "metadata": {
    "slideshow": {
     "slide_type": "slide"
    }
   },
   "source": [
    "## Installation of W3C PROV standard python library"
   ]
  },
  {
   "cell_type": "markdown",
   "metadata": {
    "slideshow": {
     "slide_type": "slide"
    }
   },
   "source": [
    "To install the prov library using [pip](http://pip.pypa.io/) with support for graphical exports:\n",
    "```bash\n",
    "pip install prov[dot]\n",
    "```\n",
    "Code Repository: https://github.com/trungdong/prov\n",
    "\n",
    "Documentation: http://prov.readthedocs.org/en/latest/\n"
   ]
  },
  {
   "cell_type": "markdown",
   "metadata": {
    "slideshow": {
     "slide_type": "slide"
    }
   },
   "source": [
    "## Simple API (v0.1)\n",
    "\n",
    "Parameters In:\n",
    "* list of input elements (e.g. files)\n",
    "* list of generated output elements\n",
    "* generting_process (tool, wps)\n",
    "* author (agent info)\n",
    "\n",
    "Result:\n",
    "* python prov element, which can be serialized (into W3C Prov standardized json and xml), printed and visualized\n",
    "dictionary (using specific keys from a CV) with provenance information--> prov document"
   ]
  },
  {
   "cell_type": "code",
   "execution_count": 1,
   "metadata": {
    "collapsed": false
   },
   "outputs": [],
   "source": [
    "## ToDo: improve and write tests\n",
    "\n",
    "from prov.model import ProvDocument\n",
    "from IPython.display import Image\n",
    "\n",
    "def generate_prov(input_files, output_files, generating_process, author):\n",
    "    '''\n",
    "    Generates Prov model entities and prov model relationships between them\n",
    "    \n",
    "    output python prov instance which can be serialized/de-serialized based on json \n",
    "\n",
    "    '''\n",
    "    d1 = ProvDocument()\n",
    "    # Namespaces should be imported from a central place \n",
    "    # e.g. a simple controled vocab server, or github later\n",
    "    d1.add_namespace('enes', 'http://www.enes.org/enes_entitiy/')\n",
    "    d1.add_namespace('file', 'http://www.enes.org/enes_entity/file/')\n",
    "    d1.add_namespace('user', 'http://www.enes.org/enes_entity/user/')\n",
    "    d1.add_namespace('esgf', 'http://carbon.dkrz.de/file/cmip5/')\n",
    "    d1.add_namespace('enes_data', 'http://enes_org/enes_data#')\n",
    "    d1.add_namespace('dc','http://dublin-core.org/')\n",
    "    d1.add_namespace('workflow', 'http://www.enes.org/enes/workflow/#')\n",
    "    \n",
    "    inputs = []\n",
    "    for i,entry in enumerate(input_files):\n",
    "        inputs.append(d1.entity(entry['name'], entry['properties']))\n",
    "\n",
    "    outputs = []\n",
    "    for i,entry in enumerate(output_files):\n",
    "        outputs.append(d1.entity(entry['name'], entry['properties']))\n",
    "    \n",
    "    processor = d1.activity(generating_process['name'])\n",
    "\n",
    "    the_agent = d1.agent(author['name'])\n",
    "    \n",
    "    # AttributedTo relationships\n",
    "    for i,entry in enumerate(output_files):\n",
    "      d1.wasAttributedTo(outputs[i],author['name'] )\n",
    "\n",
    "    # wasDerivedFrom relationships\n",
    "    for i,out_entry in enumerate(output_files):\n",
    "        for j,in_entry in enumerate(input_files):\n",
    "            d1.wasDerivedFrom(out_entry['name'], in_entry['name'])\n",
    "            \n",
    "    # used and wasGeneratedBy relationships\n",
    "    for i, in_entry in enumerate(input_files):\n",
    "        d1.used(generating_process['name'], in_entry['name'])\n",
    "    \n",
    "    for j, out_entry in enumerate(output_files):\n",
    "        d1.wasGeneratedBy(out_entry['name'], generating_process['name'])   \n",
    "        \n",
    "    return d1 \n",
    "\n",
    "def visualize_prov(prov_doc):\n",
    "    from prov.dot import prov_to_dot\n",
    "    from IPython.display import Image\n",
    "    dot = prov_to_dot(prov_doc)\n",
    "    dot.write_png('tmp1.png')\n",
    "    #dot.write_pdf('tmp1.pdf')\n",
    "    \n",
    "    return Image('tmp1.png')\n",
    "    "
   ]
  },
  {
   "cell_type": "code",
   "execution_count": 4,
   "metadata": {
    "collapsed": false,
    "slideshow": {
     "slide_type": "slide"
    }
   },
   "outputs": [],
   "source": [
    "# Example input, output and tool/WPS process as well as agent\n",
    "\n",
    "input_files = [{'name':'esgf:cmip5.mpi-m.tas.v1', \n",
    "                'properties': {'prov:label': 'experiment-mpi-m', \n",
    "                               'prov:type': 'Dataset', \n",
    "                               'dc:title':\"eval_series_1\"}},\n",
    "               {'name':'esgf:cmip5.miroc.tas.v1', \n",
    "                'properties': {'prov:label': 'experiment-miroc', \n",
    "                               'prov:type': 'Dataset', \n",
    "                               'dc:title':\"eval_series_1\"}}\n",
    "             ]\n",
    "output_files = [{'name':'enes:temporal-mean-result1-v1.nc',\n",
    "                 'properties':{'dc:title':'eval_series_1_1'}}\n",
    "               ]\n",
    "generating_process = {'name':'workflow:temporal-mean-cdo',\n",
    "                      'properties':{'prov:label': 'experiment-mpi-m', \n",
    "                                    'prov:type': 'enes_data:Dataset', \n",
    "                                    'dc:title':'esmval-analysis-a1'}\n",
    "                                   }\n",
    "author = {'name':'enes:Stephan Kindermann'}"
   ]
  },
  {
   "cell_type": "code",
   "execution_count": 5,
   "metadata": {
    "collapsed": false,
    "slideshow": {
     "slide_type": "slide"
    }
   },
   "outputs": [],
   "source": [
    "# generate example provenance object\n",
    "prov_doc = generate_prov(input_files,output_files,generating_process,author)"
   ]
  },
  {
   "cell_type": "code",
   "execution_count": 6,
   "metadata": {
    "collapsed": false,
    "slideshow": {
     "slide_type": "slide"
    }
   },
   "outputs": [
    {
     "name": "stdout",
     "output_type": "stream",
     "text": [
      "document\n",
      "  prefix enes <http://www.enes.org/enes_entitiy/>\n",
      "  prefix workflow <http://www.enes.org/enes/workflow/#>\n",
      "  prefix dc <http://dublin-core.org/>\n",
      "  prefix user <http://www.enes.org/enes_entity/user/>\n",
      "  prefix file <http://www.enes.org/enes_entity/file/>\n",
      "  prefix esgf <http://carbon.dkrz.de/file/cmip5/>\n",
      "  prefix enes_data <http://enes_org/enes_data#>\n",
      "  \n",
      "  entity(esgf:cmip5.mpi-m.tas.v1, [prov:type=\"Dataset\", dc:title=\"eval_series_1\", prov:label=\"experiment-mpi-m\"])\n",
      "  entity(esgf:cmip5.miroc.tas.v1, [prov:type=\"Dataset\", dc:title=\"eval_series_1\", prov:label=\"experiment-miroc\"])\n",
      "  entity(enes:temporal-mean-result1-v1.nc, [dc:title=\"eval_series_1_1\"])\n",
      "  activity(workflow:temporal-mean-cdo, -, -)\n",
      "  agent(enes:Stephan Kindermann)\n",
      "  wasAttributedTo(enes:temporal-mean-result1-v1.nc, enes:Stephan Kindermann)\n",
      "  wasDerivedFrom(enes:temporal-mean-result1-v1.nc, esgf:cmip5.mpi-m.tas.v1, -, -, -)\n",
      "  wasDerivedFrom(enes:temporal-mean-result1-v1.nc, esgf:cmip5.miroc.tas.v1, -, -, -)\n",
      "  used(workflow:temporal-mean-cdo, esgf:cmip5.mpi-m.tas.v1, -)\n",
      "  used(workflow:temporal-mean-cdo, esgf:cmip5.miroc.tas.v1, -)\n",
      "  wasGeneratedBy(enes:temporal-mean-result1-v1.nc, workflow:temporal-mean-cdo, -)\n",
      "endDocument\n"
     ]
    }
   ],
   "source": [
    "# print serialized provenance object\n",
    "print prov_doc.get_provn()"
   ]
  },
  {
   "cell_type": "code",
   "execution_count": 7,
   "metadata": {
    "collapsed": false,
    "scrolled": true
   },
   "outputs": [
    {
     "data": {
      "image/png": "[encoded data removed]",
      "text/plain": [
       "<IPython.core.display.Image object>"
      ]
     },
     "execution_count": 7,
     "metadata": {},
     "output_type": "execute_result"
    }
   ],
   "source": [
    "# visualize\n",
    "visualize_prov(prov_doc)"
   ]
  },
  {
   "cell_type": "markdown",
   "metadata": {},
   "source": [
    "## PROV-JSON export"
   ]
  },
  {
   "cell_type": "markdown",
   "metadata": {},
   "source": [
    "[PROV-JSON](https://provenance.ecs.soton.ac.uk/prov-json/) is natively supported by the library and is the default serialisation format."
   ]
  },
  {
   "cell_type": "code",
   "execution_count": null,
   "metadata": {
    "collapsed": false
   },
   "outputs": [],
   "source": [
    "# serialize / desirialize\n",
    "serialized_version = prov_doc.serialize()\n",
    "print serialized_version"
   ]
  },
  {
   "cell_type": "code",
   "execution_count": null,
   "metadata": {
    "collapsed": false
   },
   "outputs": [],
   "source": [
    "print prov_doc.serialize(indent=2)"
   ]
  },
  {
   "cell_type": "markdown",
   "metadata": {},
   "source": [
    "You can also serialize the document directly to a file by providing a filename (below) or a Python File object."
   ]
  },
  {
   "cell_type": "code",
   "execution_count": null,
   "metadata": {
    "collapsed": false
   },
   "outputs": [],
   "source": [
    "prov_doc.serialize('esgf-prov.json')"
   ]
  },
  {
   "cell_type": "markdown",
   "metadata": {},
   "source": [
    "A PROV-JSON file can also be deserialised into a `ProvDocument` instance as follows."
   ]
  },
  {
   "cell_type": "code",
   "execution_count": null,
   "metadata": {
    "collapsed": false
   },
   "outputs": [],
   "source": [
    "d2 = ProvDocument.deserialize('esgf-prov.json')\n",
    "prov_doc == d2  # Is it the same document we saved earlier?"
   ]
  },
  {
   "cell_type": "code",
   "execution_count": null,
   "metadata": {
    "collapsed": false
   },
   "outputs": [],
   "source": [
    "# ToDo\n",
    "\n",
    "* write simple wrapper (based on API 0.1) to translate esmValTool output into WC3 prov document (json) \n",
    "* extend API to be used in birdhouse to generate prov documents \n",
    "* publish birdhouse result prov information along result files (in the birdhouse CSW catalog and/or ProvStore)\n"
   ]
  },
  {
   "cell_type": "markdown",
   "metadata": {},
   "source": [
    "## May be useful: Store and retrieve provenance documents from ProvStore"
   ]
  },
  {
   "cell_type": "markdown",
   "metadata": {},
   "source": [
    "Having the created a provenance document, you can upload it to [ProvStore](https://provenance.ecs.soton.ac.uk/store/), a free repository for provenance documents, to share it publicly/privately, or simple just to store and retrieve it back at a later time.\n",
    "In addition to storage and sharing, you can also retrieve your documents on ProvStore in further formats like XML and RDF, transform, and/or visualise them in various ways (see [this poster](http://eprints.soton.ac.uk/365509/) for more information).\n",
    "\n",
    "Before storing your document there, you need to [register for an account](https://provenance.ecs.soton.ac.uk/store/account/signup/). You can then upload the PROV-N or PROV-JSON export above via ProvStore's website. However, if you [generated an API Key](https://provenance.ecs.soton.ac.uk/store/account/developer/) for your account, you can also upload the document there directly from this tutorial as shown below.\n",
    "\n",
    "A wrapper for [ProvStore's REST API](https://provenance.ecs.soton.ac.uk/store/help/api/) is provided by the package [provstore-api](https://github.com/millar/provstore-api#installation). Please follow the [installation instructions](https://github.com/millar/provstore-api#installation) there before proceeding."
   ]
  },
  {
   "cell_type": "code",
   "execution_count": null,
   "metadata": {
    "collapsed": false
   },
   "outputs": [],
   "source": [
    "# Configure ProvStore API Wrapper with your API Key\n",
    "from provstore.api import Api\n",
    "# see your API key at https://provenance.ecs.soton.ac.uk/store/account/developer/\n",
    "api = Api(username='your ProvStore username', api_key='your API key')"
   ]
  },
  {
   "cell_type": "code",
   "execution_count": null,
   "metadata": {
    "collapsed": false
   },
   "outputs": [],
   "source": [
    "# Submit the document to ProvStore\n",
    "provstore_document = api.document.create(d1, name='article-prov', public=True)\n",
    "\n",
    "# Generate a nice link to the document on ProvStore so you don't have to find it manually \n",
    "from IPython.display import HTML\n",
    "document_uri = provstore_document.url\n",
    "HTML('<a href=\"%s\" target=\"_blank\">Open your new provenance document on ProvStore</a>' % document_uri)"
   ]
  },
  {
   "cell_type": "markdown",
   "metadata": {},
   "source": [
    "The first statement above submit the document `d1` to ProvStore, giving it a name (required) and making it visible to everyone (optional and private by default). Clicking on the link generated will open the page on ProvStore for the document you just submitted."
   ]
  },
  {
   "cell_type": "markdown",
   "metadata": {},
   "source": [
    "The returned object is a wrapper for the document on ProvStore identified by `provstore_document.id`, with which you can, of course, retrieve the document again from ProvStore."
   ]
  },
  {
   "cell_type": "code",
   "execution_count": null,
   "metadata": {
    "collapsed": false
   },
   "outputs": [],
   "source": [
    "# Retrieve it back\n",
    "retrieved_document = api.document.get(provstore_document.id)\n",
    "d2 = retrieved_document.prov\n",
    "d1 == d2  # Is it the same document we submitted?"
   ]
  },
  {
   "cell_type": "markdown",
   "metadata": {},
   "source": [
    "You can also remove the document from ProvStore via its API. It is a good idea to leave your account there nice and tidy anyway."
   ]
  },
  {
   "cell_type": "code",
   "execution_count": null,
   "metadata": {
    "collapsed": false
   },
   "outputs": [],
   "source": [
    "# Cleaning up, delete the document\n",
    "retrieved_document.delete()"
   ]
  },
  {
   "cell_type": "code",
   "execution_count": null,
   "metadata": {
    "collapsed": false
   },
   "outputs": [],
   "source": [
    "# Just to be sure, trying to retrieve it again\n",
    "#api.document.get(provstore_document.id)  # the document is no longer there"
   ]
  },
  {
   "cell_type": "markdown",
   "metadata": {},
   "source": [
    "## Further reading"
   ]
  },
  {
   "cell_type": "markdown",
   "metadata": {},
   "source": [
    "There it is, through a very short tutorial, you have managed to create a provenance document, export it, and store it on the cloud. Simple!\n",
    "\n",
    "If you want to find out more about how to use the library and ProvStore, here are some references:\n",
    "* [Prov Python library's documentation](http://prov.readthedocs.org)\n",
    "* [ProvStore's API documentation](https://provenance.ecs.soton.ac.uk/store/help/api/)\n",
    "* [Overview of the PROV standards](http://www.w3.org/TR/prov-overview/)\n"
   ]
  },
  {
   "cell_type": "markdown",
   "metadata": {},
   "source": [
    "<a rel=\"license\" href=\"http://creativecommons.org/licenses/by-sa/4.0/\"><img alt=\"Creative Commons Licence\" style=\"border-width:0\" src=\"https://i.creativecommons.org/l/by-sa/4.0/88x31.png\" /></a><br /><span xmlns:dct=\"http://purl.org/dc/terms/\" href=\"http://purl.org/dc/dcmitype/InteractiveResource\" property=\"dct:title\" rel=\"dct:type\"> This notebook</span> is licensed under a <a rel=\"license\" href=\"http://creativecommons.org/licenses/by-sa/4.0/\">Creative Commons Attribution-ShareAlike 4.0 International License</a>."
   ]
  },
  {
   "cell_type": "code",
   "execution_count": null,
   "metadata": {
    "collapsed": true
   },
   "outputs": [],
   "source": []
  }
 ],
 "metadata": {
  "kernelspec": {
   "display_name": "Python 2",
   "language": "python",
   "name": "python2"
  },
  "language_info": {
   "codemirror_mode": {
    "name": "ipython",
    "version": 2
   },
   "file_extension": ".py",
   "mimetype": "text/x-python",
   "name": "python",
   "nbconvert_exporter": "python",
   "pygments_lexer": "ipython2",
   "version": "2.7.10"
  }
 },
 "nbformat": 4,
 "nbformat_minor": 0
}
